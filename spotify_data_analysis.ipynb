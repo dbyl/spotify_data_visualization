{
 "cells": [
  {
   "cell_type": "markdown",
   "metadata": {},
   "source": [
    "# Spotify Data Visualization"
   ]
  },
  {
   "cell_type": "markdown",
   "metadata": {},
   "source": [
    "## 1.1 Importing data and libraries"
   ]
  },
  {
   "cell_type": "code",
   "execution_count": 2,
   "metadata": {},
   "outputs": [],
   "source": [
    "import pandas as pd\n",
    "import plotly.express as px\n",
    "import matplotlib.pyplot as plt\n",
    "import seaborn as sns\n",
    "from dask import dataframe as dd\n",
    "%matplotlib inline"
   ]
  },
  {
   "cell_type": "code",
   "execution_count": 3,
   "metadata": {},
   "outputs": [],
   "source": [
    "# reading a file as a pandas dataframe requires 13 GB+ memory alocation. The file loaded this way is too large.\n",
    "# reading a file as a dask dataframe due to size with a dtypes choosed by default pandas reader\n",
    "# more about dask in dataframes: https://docs.dask.org/en/stable/dataframe.html\n",
    "\n",
    "dask_dataframe = dd.read_csv('spotify_charts.csv', \n",
    "                     dtype=object)"
   ]
  },
  {
   "cell_type": "markdown",
   "metadata": {},
   "source": [
    "## 1.2 Data exploration and optimization stage"
   ]
  },
  {
   "cell_type": "code",
   "execution_count": 4,
   "metadata": {},
   "outputs": [
    {
     "name": "stdout",
     "output_type": "stream",
     "text": [
      "<class 'dask.dataframe.core.DataFrame'>\n",
      "Columns: 9 entries, title to streams\n",
      "dtypes: object(9)\n",
      "memory usage: 1.8 GB\n"
     ]
    }
   ],
   "source": [
    "# dask dataframe size info\n",
    "\n",
    "dask_dataframe.info(memory_usage='deep')\n"
   ]
  },
  {
   "cell_type": "code",
   "execution_count": 5,
   "metadata": {},
   "outputs": [
    {
     "data": {
      "text/html": [
       "<div>\n",
       "<style scoped>\n",
       "    .dataframe tbody tr th:only-of-type {\n",
       "        vertical-align: middle;\n",
       "    }\n",
       "\n",
       "    .dataframe tbody tr th {\n",
       "        vertical-align: top;\n",
       "    }\n",
       "\n",
       "    .dataframe thead th {\n",
       "        text-align: right;\n",
       "    }\n",
       "</style>\n",
       "<table border=\"1\" class=\"dataframe\">\n",
       "  <thead>\n",
       "    <tr style=\"text-align: right;\">\n",
       "      <th></th>\n",
       "      <th>title</th>\n",
       "      <th>rank</th>\n",
       "      <th>date</th>\n",
       "      <th>artist</th>\n",
       "      <th>url</th>\n",
       "      <th>region</th>\n",
       "      <th>chart</th>\n",
       "      <th>trend</th>\n",
       "      <th>streams</th>\n",
       "    </tr>\n",
       "  </thead>\n",
       "  <tbody>\n",
       "    <tr>\n",
       "      <th>0</th>\n",
       "      <td>Chantaje (feat. Maluma)</td>\n",
       "      <td>1</td>\n",
       "      <td>2017-01-01</td>\n",
       "      <td>Shakira</td>\n",
       "      <td>https://open.spotify.com/track/6mICuAdrwEjh6Y6...</td>\n",
       "      <td>Argentina</td>\n",
       "      <td>top200</td>\n",
       "      <td>SAME_POSITION</td>\n",
       "      <td>253019</td>\n",
       "    </tr>\n",
       "    <tr>\n",
       "      <th>1</th>\n",
       "      <td>Vente Pa' Ca (feat. Maluma)</td>\n",
       "      <td>2</td>\n",
       "      <td>2017-01-01</td>\n",
       "      <td>Ricky Martin</td>\n",
       "      <td>https://open.spotify.com/track/7DM4BPaS7uofFul...</td>\n",
       "      <td>Argentina</td>\n",
       "      <td>top200</td>\n",
       "      <td>MOVE_UP</td>\n",
       "      <td>223988</td>\n",
       "    </tr>\n",
       "    <tr>\n",
       "      <th>2</th>\n",
       "      <td>Reggaetón Lento (Bailemos)</td>\n",
       "      <td>3</td>\n",
       "      <td>2017-01-01</td>\n",
       "      <td>CNCO</td>\n",
       "      <td>https://open.spotify.com/track/3AEZUABDXNtecAO...</td>\n",
       "      <td>Argentina</td>\n",
       "      <td>top200</td>\n",
       "      <td>MOVE_DOWN</td>\n",
       "      <td>210943</td>\n",
       "    </tr>\n",
       "    <tr>\n",
       "      <th>3</th>\n",
       "      <td>Safari</td>\n",
       "      <td>4</td>\n",
       "      <td>2017-01-01</td>\n",
       "      <td>J Balvin, Pharrell Williams, BIA, Sky</td>\n",
       "      <td>https://open.spotify.com/track/6rQSrBHf7HlZjtc...</td>\n",
       "      <td>Argentina</td>\n",
       "      <td>top200</td>\n",
       "      <td>SAME_POSITION</td>\n",
       "      <td>173865</td>\n",
       "    </tr>\n",
       "    <tr>\n",
       "      <th>4</th>\n",
       "      <td>Shaky Shaky</td>\n",
       "      <td>5</td>\n",
       "      <td>2017-01-01</td>\n",
       "      <td>Daddy Yankee</td>\n",
       "      <td>https://open.spotify.com/track/58IL315gMSTD37D...</td>\n",
       "      <td>Argentina</td>\n",
       "      <td>top200</td>\n",
       "      <td>MOVE_UP</td>\n",
       "      <td>153956</td>\n",
       "    </tr>\n",
       "  </tbody>\n",
       "</table>\n",
       "</div>"
      ],
      "text/plain": [
       "                         title rank        date  \\\n",
       "0      Chantaje (feat. Maluma)    1  2017-01-01   \n",
       "1  Vente Pa' Ca (feat. Maluma)    2  2017-01-01   \n",
       "2   Reggaetón Lento (Bailemos)    3  2017-01-01   \n",
       "3                       Safari    4  2017-01-01   \n",
       "4                  Shaky Shaky    5  2017-01-01   \n",
       "\n",
       "                                  artist  \\\n",
       "0                                Shakira   \n",
       "1                           Ricky Martin   \n",
       "2                                   CNCO   \n",
       "3  J Balvin, Pharrell Williams, BIA, Sky   \n",
       "4                           Daddy Yankee   \n",
       "\n",
       "                                                 url     region   chart  \\\n",
       "0  https://open.spotify.com/track/6mICuAdrwEjh6Y6...  Argentina  top200   \n",
       "1  https://open.spotify.com/track/7DM4BPaS7uofFul...  Argentina  top200   \n",
       "2  https://open.spotify.com/track/3AEZUABDXNtecAO...  Argentina  top200   \n",
       "3  https://open.spotify.com/track/6rQSrBHf7HlZjtc...  Argentina  top200   \n",
       "4  https://open.spotify.com/track/58IL315gMSTD37D...  Argentina  top200   \n",
       "\n",
       "           trend streams  \n",
       "0  SAME_POSITION  253019  \n",
       "1        MOVE_UP  223988  \n",
       "2      MOVE_DOWN  210943  \n",
       "3  SAME_POSITION  173865  \n",
       "4        MOVE_UP  153956  "
      ]
     },
     "execution_count": 5,
     "metadata": {},
     "output_type": "execute_result"
    }
   ],
   "source": [
    "dask_dataframe.head()"
   ]
  },
  {
   "cell_type": "code",
   "execution_count": 6,
   "metadata": {},
   "outputs": [
    {
     "name": "stdout",
     "output_type": "stream",
     "text": [
      "unique values in title: 164758\n",
      "unique values in rank: 200\n",
      "unique values in date: 1826\n",
      "unique values in artist: 96115\n",
      "unique values in url: 217644\n",
      "unique values in region: 70\n",
      "unique values in chart: 2\n",
      "unique values in trend: 4\n",
      "unique values in streams: 788013\n"
     ]
    }
   ],
   "source": [
    "# checking the number of unique values \n",
    "\n",
    "for col in dask_dataframe.columns:\n",
    "    print(f'unique values in {col}: {dask_dataframe[col].nunique().compute()}')\n",
    "    \n",
    "# its longer to compute every single column in dask dataframe but working with a 13 GB pandas dataframe is avoided. "
   ]
  },
  {
   "cell_type": "code",
   "execution_count": 7,
   "metadata": {},
   "outputs": [],
   "source": [
    "# changing of data types from object to category/int for elements that have relatively few unique values (in comparison to number of all entries)\n",
    "\n",
    "to_category_cols = ['title', 'url', 'artist', 'region', 'trend', 'chart']\n",
    "to_datetime64_cols = ['date']\n",
    "to_int32_cols = ['rank']\n",
    "\n",
    "for col in to_category_cols:\n",
    "    dask_dataframe[col] = dask_dataframe[col].astype('category')\n",
    "        \n",
    "for col in to_int32_cols:\n",
    "    dask_dataframe[col] = dask_dataframe[col].astype('int32')\n",
    "    \n",
    "for col in to_datetime64_cols:\n",
    "    dask_dataframe[col] = dask_dataframe[col].astype('datetime64')\n"
   ]
  },
  {
   "cell_type": "code",
   "execution_count": 8,
   "metadata": {},
   "outputs": [
    {
     "name": "stdout",
     "output_type": "stream",
     "text": [
      "<class 'dask.dataframe.core.DataFrame'>\n",
      "Columns: 9 entries, title to streams\n",
      "dtypes: category(6), datetime64[ns](1), object(1), int32(1)\n",
      "memory usage: 813.4 MB\n"
     ]
    }
   ],
   "source": [
    "# rechecking dask dataframe size info\n",
    "\n",
    "dask_dataframe.info(memory_usage='deep')"
   ]
  },
  {
   "cell_type": "code",
   "execution_count": 9,
   "metadata": {},
   "outputs": [
    {
     "name": "stdout",
     "output_type": "stream",
     "text": [
      "<class 'pandas.core.frame.DataFrame'>\n",
      "Int64Index: 26147953 entries, 0 to 498950\n",
      "Data columns (total 9 columns):\n",
      " #   Column   Dtype         \n",
      "---  ------   -----         \n",
      " 0   title    category      \n",
      " 1   rank     int32         \n",
      " 2   date     datetime64[ns]\n",
      " 3   artist   category      \n",
      " 4   url      category      \n",
      " 5   region   category      \n",
      " 6   chart    category      \n",
      " 7   trend    category      \n",
      " 8   streams  object        \n",
      "dtypes: category(6), datetime64[ns](1), int32(1), object(1)\n",
      "memory usage: 2.2 GB\n"
     ]
    }
   ],
   "source": [
    "# pandas dataframe size info\n",
    "\n",
    "dataframe = dask_dataframe.compute()\n",
    "\n",
    "dataframe.info(memory_usage='deep')\n",
    "\n",
    "# file is much smaller and after first steps of optimization is possible to work on pandas dataframe again"
   ]
  },
  {
   "cell_type": "code",
   "execution_count": 10,
   "metadata": {},
   "outputs": [
    {
     "name": "stdout",
     "output_type": "stream",
     "text": [
      "NaN values in title: 11\n",
      "NaN values in rank: 0\n",
      "NaN values in date: 0\n",
      "NaN values in artist: 18\n",
      "NaN values in url: 0\n",
      "NaN values in region: 1\n",
      "NaN values in chart: 1\n",
      "NaN values in trend: 1\n",
      "NaN values in streams: 5826049\n"
     ]
    }
   ],
   "source": [
    "# checking the number of NaN values \n",
    "\n",
    "for col in dataframe.columns:\n",
    "    print(f'NaN values in {col}: {dataframe[col].isna().sum()}')\n",
    "    "
   ]
  },
  {
   "cell_type": "code",
   "execution_count": 11,
   "metadata": {},
   "outputs": [],
   "source": [
    "# preparing a NaN values filters\n",
    "\n",
    "title_is_nan = dataframe['title'].isna()\n",
    "artist_is_nan = dataframe['artist'].isna()\n",
    "region_is_nan = dataframe['region'].isna()\n",
    "chart_is_nan = dataframe['chart'].isna()\n",
    "trend_is_nan = dataframe['trend'].isna()\n",
    "streams_is_nan = dataframe['streams'].isna()\n"
   ]
  },
  {
   "cell_type": "code",
   "execution_count": 12,
   "metadata": {},
   "outputs": [
    {
     "data": {
      "text/html": [
       "<div>\n",
       "<style scoped>\n",
       "    .dataframe tbody tr th:only-of-type {\n",
       "        vertical-align: middle;\n",
       "    }\n",
       "\n",
       "    .dataframe tbody tr th {\n",
       "        vertical-align: top;\n",
       "    }\n",
       "\n",
       "    .dataframe thead th {\n",
       "        text-align: right;\n",
       "    }\n",
       "</style>\n",
       "<table border=\"1\" class=\"dataframe\">\n",
       "  <thead>\n",
       "    <tr style=\"text-align: right;\">\n",
       "      <th></th>\n",
       "      <th>title</th>\n",
       "      <th>rank</th>\n",
       "      <th>date</th>\n",
       "      <th>artist</th>\n",
       "      <th>url</th>\n",
       "      <th>region</th>\n",
       "      <th>chart</th>\n",
       "      <th>trend</th>\n",
       "      <th>streams</th>\n",
       "    </tr>\n",
       "  </thead>\n",
       "  <tbody>\n",
       "    <tr>\n",
       "      <th>72604</th>\n",
       "      <td>NaN</td>\n",
       "      <td>120</td>\n",
       "      <td>2019-06-24</td>\n",
       "      <td>Nissy</td>\n",
       "      <td>https://open.spotify.com/track/4cP6KmNvTFkLHZo...</td>\n",
       "      <td>Japan</td>\n",
       "      <td>top200</td>\n",
       "      <td>NEW_ENTRY</td>\n",
       "      <td>11942</td>\n",
       "    </tr>\n",
       "    <tr>\n",
       "      <th>169157</th>\n",
       "      <td>NaN</td>\n",
       "      <td>167</td>\n",
       "      <td>2019-06-25</td>\n",
       "      <td>Nissy</td>\n",
       "      <td>https://open.spotify.com/track/4cP6KmNvTFkLHZo...</td>\n",
       "      <td>Japan</td>\n",
       "      <td>top200</td>\n",
       "      <td>MOVE_DOWN</td>\n",
       "      <td>10310</td>\n",
       "    </tr>\n",
       "    <tr>\n",
       "      <th>246763</th>\n",
       "      <td>NaN</td>\n",
       "      <td>128</td>\n",
       "      <td>2019-06-26</td>\n",
       "      <td>Nissy</td>\n",
       "      <td>https://open.spotify.com/track/4cP6KmNvTFkLHZo...</td>\n",
       "      <td>Japan</td>\n",
       "      <td>top200</td>\n",
       "      <td>MOVE_UP</td>\n",
       "      <td>11620</td>\n",
       "    </tr>\n",
       "  </tbody>\n",
       "</table>\n",
       "</div>"
      ],
      "text/plain": [
       "       title  rank       date artist  \\\n",
       "72604    NaN   120 2019-06-24  Nissy   \n",
       "169157   NaN   167 2019-06-25  Nissy   \n",
       "246763   NaN   128 2019-06-26  Nissy   \n",
       "\n",
       "                                                      url region   chart  \\\n",
       "72604   https://open.spotify.com/track/4cP6KmNvTFkLHZo...  Japan  top200   \n",
       "169157  https://open.spotify.com/track/4cP6KmNvTFkLHZo...  Japan  top200   \n",
       "246763  https://open.spotify.com/track/4cP6KmNvTFkLHZo...  Japan  top200   \n",
       "\n",
       "            trend streams  \n",
       "72604   NEW_ENTRY   11942  \n",
       "169157  MOVE_DOWN   10310  \n",
       "246763    MOVE_UP   11620  "
      ]
     },
     "execution_count": 12,
     "metadata": {},
     "output_type": "execute_result"
    }
   ],
   "source": [
    "# NaN data exploratiom\n",
    "dataframe[title_is_nan].head(3)"
   ]
  },
  {
   "cell_type": "code",
   "execution_count": 13,
   "metadata": {},
   "outputs": [
    {
     "data": {
      "text/html": [
       "<div>\n",
       "<style scoped>\n",
       "    .dataframe tbody tr th:only-of-type {\n",
       "        vertical-align: middle;\n",
       "    }\n",
       "\n",
       "    .dataframe tbody tr th {\n",
       "        vertical-align: top;\n",
       "    }\n",
       "\n",
       "    .dataframe thead th {\n",
       "        text-align: right;\n",
       "    }\n",
       "</style>\n",
       "<table border=\"1\" class=\"dataframe\">\n",
       "  <thead>\n",
       "    <tr style=\"text-align: right;\">\n",
       "      <th></th>\n",
       "      <th>title</th>\n",
       "      <th>rank</th>\n",
       "      <th>date</th>\n",
       "      <th>artist</th>\n",
       "      <th>url</th>\n",
       "      <th>region</th>\n",
       "      <th>chart</th>\n",
       "      <th>trend</th>\n",
       "      <th>streams</th>\n",
       "    </tr>\n",
       "  </thead>\n",
       "  <tbody>\n",
       "    <tr>\n",
       "      <th>291605</th>\n",
       "      <td>NO GOOD</td>\n",
       "      <td>10</td>\n",
       "      <td>2020-07-13</td>\n",
       "      <td>NaN</td>\n",
       "      <td>https://open.spotify.com/track/4Qnz8tARYhUtDNe...</td>\n",
       "      <td>Japan</td>\n",
       "      <td>viral50</td>\n",
       "      <td>NEW_ENTRY</td>\n",
       "      <td>NaN</td>\n",
       "    </tr>\n",
       "    <tr>\n",
       "      <th>311398</th>\n",
       "      <td>NO GOOD</td>\n",
       "      <td>10</td>\n",
       "      <td>2020-07-14</td>\n",
       "      <td>NaN</td>\n",
       "      <td>https://open.spotify.com/track/4Qnz8tARYhUtDNe...</td>\n",
       "      <td>Japan</td>\n",
       "      <td>viral50</td>\n",
       "      <td>SAME_POSITION</td>\n",
       "      <td>NaN</td>\n",
       "    </tr>\n",
       "    <tr>\n",
       "      <th>335035</th>\n",
       "      <td>NO GOOD</td>\n",
       "      <td>10</td>\n",
       "      <td>2020-07-15</td>\n",
       "      <td>NaN</td>\n",
       "      <td>https://open.spotify.com/track/4Qnz8tARYhUtDNe...</td>\n",
       "      <td>Japan</td>\n",
       "      <td>viral50</td>\n",
       "      <td>SAME_POSITION</td>\n",
       "      <td>NaN</td>\n",
       "    </tr>\n",
       "  </tbody>\n",
       "</table>\n",
       "</div>"
      ],
      "text/plain": [
       "          title  rank       date artist  \\\n",
       "291605  NO GOOD    10 2020-07-13    NaN   \n",
       "311398  NO GOOD    10 2020-07-14    NaN   \n",
       "335035  NO GOOD    10 2020-07-15    NaN   \n",
       "\n",
       "                                                      url region    chart  \\\n",
       "291605  https://open.spotify.com/track/4Qnz8tARYhUtDNe...  Japan  viral50   \n",
       "311398  https://open.spotify.com/track/4Qnz8tARYhUtDNe...  Japan  viral50   \n",
       "335035  https://open.spotify.com/track/4Qnz8tARYhUtDNe...  Japan  viral50   \n",
       "\n",
       "                trend streams  \n",
       "291605      NEW_ENTRY     NaN  \n",
       "311398  SAME_POSITION     NaN  \n",
       "335035  SAME_POSITION     NaN  "
      ]
     },
     "execution_count": 13,
     "metadata": {},
     "output_type": "execute_result"
    }
   ],
   "source": [
    "# NaN data exploratiom\n",
    "dataframe[artist_is_nan].head(3)"
   ]
  },
  {
   "cell_type": "code",
   "execution_count": 14,
   "metadata": {},
   "outputs": [
    {
     "data": {
      "text/html": [
       "<div>\n",
       "<style scoped>\n",
       "    .dataframe tbody tr th:only-of-type {\n",
       "        vertical-align: middle;\n",
       "    }\n",
       "\n",
       "    .dataframe tbody tr th {\n",
       "        vertical-align: top;\n",
       "    }\n",
       "\n",
       "    .dataframe thead th {\n",
       "        text-align: right;\n",
       "    }\n",
       "</style>\n",
       "<table border=\"1\" class=\"dataframe\">\n",
       "  <thead>\n",
       "    <tr style=\"text-align: right;\">\n",
       "      <th></th>\n",
       "      <th>title</th>\n",
       "      <th>rank</th>\n",
       "      <th>date</th>\n",
       "      <th>artist</th>\n",
       "      <th>url</th>\n",
       "      <th>region</th>\n",
       "      <th>chart</th>\n",
       "      <th>trend</th>\n",
       "      <th>streams</th>\n",
       "    </tr>\n",
       "  </thead>\n",
       "  <tbody>\n",
       "    <tr>\n",
       "      <th>498950</th>\n",
       "      <td>Tengo La Personalidad</td>\n",
       "      <td>47</td>\n",
       "      <td>2021-07-24</td>\n",
       "      <td>Chikybombom La Pantera</td>\n",
       "      <td>https://open.spotify.com/trac</td>\n",
       "      <td>NaN</td>\n",
       "      <td>NaN</td>\n",
       "      <td>NaN</td>\n",
       "      <td>NaN</td>\n",
       "    </tr>\n",
       "  </tbody>\n",
       "</table>\n",
       "</div>"
      ],
      "text/plain": [
       "                        title  rank       date                  artist  \\\n",
       "498950  Tengo La Personalidad    47 2021-07-24  Chikybombom La Pantera   \n",
       "\n",
       "                                  url region chart trend streams  \n",
       "498950  https://open.spotify.com/trac    NaN   NaN   NaN     NaN  "
      ]
     },
     "execution_count": 14,
     "metadata": {},
     "output_type": "execute_result"
    }
   ],
   "source": [
    "# NaN data exploratiom\n",
    "dataframe[region_is_nan].head(3)"
   ]
  },
  {
   "cell_type": "code",
   "execution_count": 15,
   "metadata": {},
   "outputs": [
    {
     "data": {
      "text/html": [
       "<div>\n",
       "<style scoped>\n",
       "    .dataframe tbody tr th:only-of-type {\n",
       "        vertical-align: middle;\n",
       "    }\n",
       "\n",
       "    .dataframe tbody tr th {\n",
       "        vertical-align: top;\n",
       "    }\n",
       "\n",
       "    .dataframe thead th {\n",
       "        text-align: right;\n",
       "    }\n",
       "</style>\n",
       "<table border=\"1\" class=\"dataframe\">\n",
       "  <thead>\n",
       "    <tr style=\"text-align: right;\">\n",
       "      <th></th>\n",
       "      <th>title</th>\n",
       "      <th>rank</th>\n",
       "      <th>date</th>\n",
       "      <th>artist</th>\n",
       "      <th>url</th>\n",
       "      <th>region</th>\n",
       "      <th>chart</th>\n",
       "      <th>trend</th>\n",
       "      <th>streams</th>\n",
       "    </tr>\n",
       "  </thead>\n",
       "  <tbody>\n",
       "    <tr>\n",
       "      <th>498950</th>\n",
       "      <td>Tengo La Personalidad</td>\n",
       "      <td>47</td>\n",
       "      <td>2021-07-24</td>\n",
       "      <td>Chikybombom La Pantera</td>\n",
       "      <td>https://open.spotify.com/trac</td>\n",
       "      <td>NaN</td>\n",
       "      <td>NaN</td>\n",
       "      <td>NaN</td>\n",
       "      <td>NaN</td>\n",
       "    </tr>\n",
       "  </tbody>\n",
       "</table>\n",
       "</div>"
      ],
      "text/plain": [
       "                        title  rank       date                  artist  \\\n",
       "498950  Tengo La Personalidad    47 2021-07-24  Chikybombom La Pantera   \n",
       "\n",
       "                                  url region chart trend streams  \n",
       "498950  https://open.spotify.com/trac    NaN   NaN   NaN     NaN  "
      ]
     },
     "execution_count": 15,
     "metadata": {},
     "output_type": "execute_result"
    }
   ],
   "source": [
    "# NaN data exploratiom\n",
    "dataframe[chart_is_nan].head(3)"
   ]
  },
  {
   "cell_type": "code",
   "execution_count": 16,
   "metadata": {},
   "outputs": [
    {
     "data": {
      "text/html": [
       "<div>\n",
       "<style scoped>\n",
       "    .dataframe tbody tr th:only-of-type {\n",
       "        vertical-align: middle;\n",
       "    }\n",
       "\n",
       "    .dataframe tbody tr th {\n",
       "        vertical-align: top;\n",
       "    }\n",
       "\n",
       "    .dataframe thead th {\n",
       "        text-align: right;\n",
       "    }\n",
       "</style>\n",
       "<table border=\"1\" class=\"dataframe\">\n",
       "  <thead>\n",
       "    <tr style=\"text-align: right;\">\n",
       "      <th></th>\n",
       "      <th>title</th>\n",
       "      <th>rank</th>\n",
       "      <th>date</th>\n",
       "      <th>artist</th>\n",
       "      <th>url</th>\n",
       "      <th>region</th>\n",
       "      <th>chart</th>\n",
       "      <th>trend</th>\n",
       "      <th>streams</th>\n",
       "    </tr>\n",
       "  </thead>\n",
       "  <tbody>\n",
       "    <tr>\n",
       "      <th>498950</th>\n",
       "      <td>Tengo La Personalidad</td>\n",
       "      <td>47</td>\n",
       "      <td>2021-07-24</td>\n",
       "      <td>Chikybombom La Pantera</td>\n",
       "      <td>https://open.spotify.com/trac</td>\n",
       "      <td>NaN</td>\n",
       "      <td>NaN</td>\n",
       "      <td>NaN</td>\n",
       "      <td>NaN</td>\n",
       "    </tr>\n",
       "  </tbody>\n",
       "</table>\n",
       "</div>"
      ],
      "text/plain": [
       "                        title  rank       date                  artist  \\\n",
       "498950  Tengo La Personalidad    47 2021-07-24  Chikybombom La Pantera   \n",
       "\n",
       "                                  url region chart trend streams  \n",
       "498950  https://open.spotify.com/trac    NaN   NaN   NaN     NaN  "
      ]
     },
     "execution_count": 16,
     "metadata": {},
     "output_type": "execute_result"
    }
   ],
   "source": [
    "# NaN data exploratiom\n",
    "dataframe[trend_is_nan].head(3)"
   ]
  },
  {
   "cell_type": "code",
   "execution_count": 17,
   "metadata": {},
   "outputs": [
    {
     "data": {
      "text/html": [
       "<div>\n",
       "<style scoped>\n",
       "    .dataframe tbody tr th:only-of-type {\n",
       "        vertical-align: middle;\n",
       "    }\n",
       "\n",
       "    .dataframe tbody tr th {\n",
       "        vertical-align: top;\n",
       "    }\n",
       "\n",
       "    .dataframe thead th {\n",
       "        text-align: right;\n",
       "    }\n",
       "</style>\n",
       "<table border=\"1\" class=\"dataframe\">\n",
       "  <thead>\n",
       "    <tr style=\"text-align: right;\">\n",
       "      <th></th>\n",
       "      <th>title</th>\n",
       "      <th>rank</th>\n",
       "      <th>date</th>\n",
       "      <th>artist</th>\n",
       "      <th>url</th>\n",
       "      <th>region</th>\n",
       "      <th>chart</th>\n",
       "      <th>trend</th>\n",
       "      <th>streams</th>\n",
       "    </tr>\n",
       "  </thead>\n",
       "  <tbody>\n",
       "    <tr>\n",
       "      <th>258837</th>\n",
       "      <td>Loco</td>\n",
       "      <td>1</td>\n",
       "      <td>2019-10-17</td>\n",
       "      <td>Beéle</td>\n",
       "      <td>https://open.spotify.com/track/2J9B63FawlTaPdg...</td>\n",
       "      <td>Costa Rica</td>\n",
       "      <td>viral50</td>\n",
       "      <td>SAME_POSITION</td>\n",
       "      <td>NaN</td>\n",
       "    </tr>\n",
       "    <tr>\n",
       "      <th>48450</th>\n",
       "      <td>Not For Me</td>\n",
       "      <td>50</td>\n",
       "      <td>2020-11-07</td>\n",
       "      <td>Maris Racal</td>\n",
       "      <td>https://open.spotify.com/track/6Q7gbt3fBClwFmy...</td>\n",
       "      <td>Philippines</td>\n",
       "      <td>viral50</td>\n",
       "      <td>NEW_ENTRY</td>\n",
       "      <td>NaN</td>\n",
       "    </tr>\n",
       "    <tr>\n",
       "      <th>300310</th>\n",
       "      <td>You Already Know</td>\n",
       "      <td>7</td>\n",
       "      <td>2019-07-31</td>\n",
       "      <td>Shotgun Willy, Yung Craka</td>\n",
       "      <td>https://open.spotify.com/track/0ICY4TtDdjDd0kS...</td>\n",
       "      <td>New Zealand</td>\n",
       "      <td>viral50</td>\n",
       "      <td>SAME_POSITION</td>\n",
       "      <td>NaN</td>\n",
       "    </tr>\n",
       "    <tr>\n",
       "      <th>15498</th>\n",
       "      <td>Harami</td>\n",
       "      <td>32</td>\n",
       "      <td>2019-05-07</td>\n",
       "      <td>Samra</td>\n",
       "      <td>https://open.spotify.com/track/5xIODxqlpUnRVA9...</td>\n",
       "      <td>Switzerland</td>\n",
       "      <td>viral50</td>\n",
       "      <td>SAME_POSITION</td>\n",
       "      <td>NaN</td>\n",
       "    </tr>\n",
       "    <tr>\n",
       "      <th>425530</th>\n",
       "      <td>Into The Blue</td>\n",
       "      <td>36</td>\n",
       "      <td>2017-09-26</td>\n",
       "      <td>Rationale</td>\n",
       "      <td>https://open.spotify.com/track/3EYiv7DfJ7V0aRA...</td>\n",
       "      <td>Czech Republic</td>\n",
       "      <td>viral50</td>\n",
       "      <td>MOVE_UP</td>\n",
       "      <td>NaN</td>\n",
       "    </tr>\n",
       "  </tbody>\n",
       "</table>\n",
       "</div>"
      ],
      "text/plain": [
       "                   title  rank       date                     artist  \\\n",
       "258837              Loco     1 2019-10-17                      Beéle   \n",
       "48450         Not For Me    50 2020-11-07                Maris Racal   \n",
       "300310  You Already Know     7 2019-07-31  Shotgun Willy, Yung Craka   \n",
       "15498             Harami    32 2019-05-07                      Samra   \n",
       "425530     Into The Blue    36 2017-09-26                  Rationale   \n",
       "\n",
       "                                                      url          region  \\\n",
       "258837  https://open.spotify.com/track/2J9B63FawlTaPdg...      Costa Rica   \n",
       "48450   https://open.spotify.com/track/6Q7gbt3fBClwFmy...     Philippines   \n",
       "300310  https://open.spotify.com/track/0ICY4TtDdjDd0kS...     New Zealand   \n",
       "15498   https://open.spotify.com/track/5xIODxqlpUnRVA9...     Switzerland   \n",
       "425530  https://open.spotify.com/track/3EYiv7DfJ7V0aRA...  Czech Republic   \n",
       "\n",
       "          chart          trend streams  \n",
       "258837  viral50  SAME_POSITION     NaN  \n",
       "48450   viral50      NEW_ENTRY     NaN  \n",
       "300310  viral50  SAME_POSITION     NaN  \n",
       "15498   viral50  SAME_POSITION     NaN  \n",
       "425530  viral50        MOVE_UP     NaN  "
      ]
     },
     "execution_count": 17,
     "metadata": {},
     "output_type": "execute_result"
    }
   ],
   "source": [
    "# NaN data exploratiom\n",
    "dataframe[streams_is_nan].sample(5)"
   ]
  },
  {
   "cell_type": "code",
   "execution_count": 18,
   "metadata": {},
   "outputs": [
    {
     "data": {
      "text/plain": [
       "0"
      ]
     },
     "execution_count": 18,
     "metadata": {},
     "output_type": "execute_result"
    }
   ],
   "source": [
    "# checking if 'streams' contains any '0' values\n",
    "\n",
    "streams_is_null = dataframe['streams'] == 0\n",
    "\n",
    "len(dataframe[streams_is_null])\n",
    "\n"
   ]
  },
  {
   "cell_type": "code",
   "execution_count": 19,
   "metadata": {},
   "outputs": [],
   "source": [
    "# replacing NaN values with a zeros without losing any data\n",
    "\n",
    "dataframe['streams'].fillna(value=0, inplace=True)"
   ]
  },
  {
   "cell_type": "code",
   "execution_count": 20,
   "metadata": {},
   "outputs": [],
   "source": [
    "# changing of data types of 'streams' from float64 to int32\n",
    "\n",
    "dataframe['streams'] = dataframe['streams'].astype('int32')"
   ]
  },
  {
   "cell_type": "code",
   "execution_count": 21,
   "metadata": {},
   "outputs": [],
   "source": [
    "# droping rest records containing NaN values\n",
    "dataframe.dropna(inplace=True)\n"
   ]
  },
  {
   "cell_type": "code",
   "execution_count": 22,
   "metadata": {},
   "outputs": [
    {
     "name": "stdout",
     "output_type": "stream",
     "text": [
      "NaN values in title: 0\n",
      "NaN values in rank: 0\n",
      "NaN values in date: 0\n",
      "NaN values in artist: 0\n",
      "NaN values in url: 0\n",
      "NaN values in region: 0\n",
      "NaN values in chart: 0\n",
      "NaN values in trend: 0\n",
      "NaN values in streams: 0\n"
     ]
    }
   ],
   "source": [
    "# rechecking the number of NaN values \n",
    "\n",
    "for col in dataframe.columns:\n",
    "    print(f'NaN values in {col}: {dataframe[col].isna().sum()}')"
   ]
  },
  {
   "cell_type": "code",
   "execution_count": 23,
   "metadata": {},
   "outputs": [
    {
     "name": "stdout",
     "output_type": "stream",
     "text": [
      "<class 'pandas.core.frame.DataFrame'>\n",
      "Int64Index: 26147923 entries, 0 to 498949\n",
      "Data columns (total 9 columns):\n",
      " #   Column   Dtype         \n",
      "---  ------   -----         \n",
      " 0   title    category      \n",
      " 1   rank     int32         \n",
      " 2   date     datetime64[ns]\n",
      " 3   artist   category      \n",
      " 4   url      category      \n",
      " 5   region   category      \n",
      " 6   chart    category      \n",
      " 7   trend    category      \n",
      " 8   streams  int32         \n",
      "dtypes: category(6), datetime64[ns](1), int32(2)\n",
      "memory usage: 1.0 GB\n"
     ]
    }
   ],
   "source": [
    "# checking if there is a memory usage saving\n",
    "dataframe.info(memory_usage='deep')\n",
    "\n",
    "\n"
   ]
  },
  {
   "cell_type": "code",
   "execution_count": 24,
   "metadata": {},
   "outputs": [],
   "source": [
    "# data filters \n",
    "\n",
    "# sample data\n",
    "choosen_start_date = '2019-05-05'\n",
    "choosen_end_date = '2021-12-05'\n",
    "choosen_artist = 'Drake'\n",
    "choosen_title = 'bad guy'\n",
    "choosen_region = 'United States'\n",
    "choosen_trend = 'MOVE_UP'\n",
    "choosen_top_rank = 20\n",
    "choosen_streams_more_than = 1000\n",
    "choosen_chart = 'top200'\n",
    "\n",
    "data_filter = dataframe['date'].between(choosen_start_date, choosen_end_date)\n",
    "artist_filter = dataframe['artist'] == choosen_artist\n",
    "title_filter = dataframe['title'] == choosen_title\n",
    "region_filter = dataframe['region'] == choosen_region\n",
    "trend_filter = dataframe['trend'] == choosen_trend\n",
    "top_rank_filter = dataframe['rank'] <= choosen_top_rank\n",
    "more_than_streams_filter = dataframe['streams'] >= choosen_streams_more_than\n",
    "chart_filter = dataframe['chart'] == choosen_chart\n",
    "\n",
    "some_other_data = dataframe[data_filter & region_filter & chart_filter & artist_filter].sort_values(by='title')\n",
    "\n",
    "\n"
   ]
  },
  {
   "cell_type": "code",
   "execution_count": 207,
   "metadata": {},
   "outputs": [
    {
     "data": {
      "text/plain": [
       "Text(0.5, 1.0, 'Billy Eilish - bad guy ranking over time in top200 chart.')"
      ]
     },
     "execution_count": 207,
     "metadata": {},
     "output_type": "execute_result"
    },
    {
     "data": {
      "image/png": "[encoded data removed]",
      "text/plain": [
       "<Figure size 1000x500 with 1 Axes>"
      ]
     },
     "metadata": {},
     "output_type": "display_data"
    }
   ],
   "source": [
    "# rank changes over time for given parameters\n",
    "\n",
    "\n",
    "choosen_start_date = '2019-05-05'\n",
    "choosen_end_date = '2019-09-05'\n",
    "choosen_artist = 'Billy Eilish'\n",
    "choosen_title = 'bad guy'\n",
    "choosen_region = 'United States'\n",
    "choosen_chart = 'top200'\n",
    "\n",
    "data_filter = dataframe['date'].between(choosen_start_date, choosen_end_date)\n",
    "artist_filter = dataframe['artist'] == choosen_artist\n",
    "title_filter = dataframe['title'] == choosen_title\n",
    "region_filter = dataframe['region'] == choosen_region\n",
    "chart_filter = dataframe['chart'] == choosen_chart\n",
    "\n",
    "title = f'{choosen_artist} - {choosen_title} ranking over time in {choosen_chart} chart.'\n",
    "\n",
    "rank_changes_data = dataframe[data_filter & region_filter & chart_filter & title_filter].sort_values(by='date')\n",
    "\n",
    "plt.figure(figsize=(10,5))\n",
    "plt.setp(plt.xticks()[1], rotation=45)\n",
    "\n",
    "sns.lineplot(data=rank_changes_data, x='date', y='rank', color='b').set_title(title)\n",
    "\n",
    "\n",
    "\n"
   ]
  },
  {
   "cell_type": "code",
   "execution_count": 206,
   "metadata": {},
   "outputs": [
    {
     "ename": "KeyError",
     "evalue": "\"None of [Index(['Can I', 'Chicago Freestyle (feat. Giveon)', 'Deep Pockets',\\n       'Demons (feat. Fivio Foreign & Sosa Geek)', 'Desires (with Future)',\\n       'From Florida With Love', 'God's Plan', 'In My Feelings', 'Landed',\\n       'Losses', 'Money In The Grave (Drake ft. Rick Ross)', 'Nice For What',\\n       'Nonstop', 'Not You Too (feat. Chris Brown)',\\n       'Pain 1993 (with Playboi Carti)', 'Passionfruit', 'Time Flies',\\n       'Toosie Slide', 'War', 'When To Say When', 'Trust Issues', 'Omertà',\\n       'Dreams Money Can Buy', 'How Bout Now', '4pm in Calabasas',\\n       '5 Am in Toronto', 'Club Paradise', 'Days in The East', 'Draft Day',\\n       'Free Spirit (feat. Rick Ross)',\\n       'Girls Love Beyoncé (feat. James Fauntleroy)', 'Heat Of The Moment',\\n       'I Get Lonely', 'Jodeci Freestyle (feat. J. Cole)', 'My Side',\\n       'Paris Morton Music', 'The Motion', 'Behind Barz - Bonus',\\n       'Laugh Now Cry Later (feat. Lil Durk)',\\n       'Wants and Needs (feat. Lil Baby)', 'What’s Next',\\n       'Lemon Pepper Freestyle (feat. Rick Ross)', '7am On Bridle Path',\\n       'Champagne Poetry', 'F*****g Fans', 'Fair Trade (with Travis Scott)',\\n       'Fountains (with Tems)', 'Girls Want Girls (with Lil Baby)',\\n       'IMY2 (with Kid Cudi)', 'In The Bible (with Lil Durk & Giveon)',\\n       'Knife Talk (with 21 Savage ft. Project Pat)', 'Love All (with JAY-Z)',\\n       'No Friends In The Industry', 'Papi’s Home', 'Pipe Down',\\n       'Race My Mind', 'TSU', 'The Remorse',\\n       'Way 2 Sexy (with Future & Young Thug)',\\n       'You Only Live Twice (with Lil Wayne & Rick Ross)'],\\n      dtype='object')] are in the [columns]\"",
     "output_type": "error",
     "traceback": [
      "\u001b[0;31m---------------------------------------------------------------------------\u001b[0m",
      "\u001b[0;31mKeyError\u001b[0m                                  Traceback (most recent call last)",
      "Cell \u001b[0;32mIn [206], line 4\u001b[0m\n\u001b[1;32m      1\u001b[0m \u001b[39m# songs in choosen charts for given parameters\u001b[39;00m\n\u001b[1;32m      3\u001b[0m unique_values \u001b[39m=\u001b[39m some_other_data[\u001b[39m'\u001b[39m\u001b[39mtitle\u001b[39m\u001b[39m'\u001b[39m]\u001b[39m.\u001b[39mdrop_duplicates()\n\u001b[0;32m----> 4\u001b[0m some_other_data[unique_values]\u001b[39m.\u001b[39mhead()\n",
      "File \u001b[0;32m~/spotify_data_visualization/env/lib/python3.8/site-packages/pandas/core/frame.py:3811\u001b[0m, in \u001b[0;36mDataFrame.__getitem__\u001b[0;34m(self, key)\u001b[0m\n\u001b[1;32m   3809\u001b[0m     \u001b[39mif\u001b[39;00m is_iterator(key):\n\u001b[1;32m   3810\u001b[0m         key \u001b[39m=\u001b[39m \u001b[39mlist\u001b[39m(key)\n\u001b[0;32m-> 3811\u001b[0m     indexer \u001b[39m=\u001b[39m \u001b[39mself\u001b[39;49m\u001b[39m.\u001b[39;49mcolumns\u001b[39m.\u001b[39;49m_get_indexer_strict(key, \u001b[39m\"\u001b[39;49m\u001b[39mcolumns\u001b[39;49m\u001b[39m\"\u001b[39;49m)[\u001b[39m1\u001b[39m]\n\u001b[1;32m   3813\u001b[0m \u001b[39m# take() does not accept boolean indexers\u001b[39;00m\n\u001b[1;32m   3814\u001b[0m \u001b[39mif\u001b[39;00m \u001b[39mgetattr\u001b[39m(indexer, \u001b[39m\"\u001b[39m\u001b[39mdtype\u001b[39m\u001b[39m\"\u001b[39m, \u001b[39mNone\u001b[39;00m) \u001b[39m==\u001b[39m \u001b[39mbool\u001b[39m:\n",
      "File \u001b[0;32m~/spotify_data_visualization/env/lib/python3.8/site-packages/pandas/core/indexes/base.py:6108\u001b[0m, in \u001b[0;36mIndex._get_indexer_strict\u001b[0;34m(self, key, axis_name)\u001b[0m\n\u001b[1;32m   6105\u001b[0m \u001b[39melse\u001b[39;00m:\n\u001b[1;32m   6106\u001b[0m     keyarr, indexer, new_indexer \u001b[39m=\u001b[39m \u001b[39mself\u001b[39m\u001b[39m.\u001b[39m_reindex_non_unique(keyarr)\n\u001b[0;32m-> 6108\u001b[0m \u001b[39mself\u001b[39;49m\u001b[39m.\u001b[39;49m_raise_if_missing(keyarr, indexer, axis_name)\n\u001b[1;32m   6110\u001b[0m keyarr \u001b[39m=\u001b[39m \u001b[39mself\u001b[39m\u001b[39m.\u001b[39mtake(indexer)\n\u001b[1;32m   6111\u001b[0m \u001b[39mif\u001b[39;00m \u001b[39misinstance\u001b[39m(key, Index):\n\u001b[1;32m   6112\u001b[0m     \u001b[39m# GH 42790 - Preserve name from an Index\u001b[39;00m\n",
      "File \u001b[0;32m~/spotify_data_visualization/env/lib/python3.8/site-packages/pandas/core/indexes/base.py:6168\u001b[0m, in \u001b[0;36mIndex._raise_if_missing\u001b[0;34m(self, key, indexer, axis_name)\u001b[0m\n\u001b[1;32m   6166\u001b[0m     \u001b[39mif\u001b[39;00m use_interval_msg:\n\u001b[1;32m   6167\u001b[0m         key \u001b[39m=\u001b[39m \u001b[39mlist\u001b[39m(key)\n\u001b[0;32m-> 6168\u001b[0m     \u001b[39mraise\u001b[39;00m \u001b[39mKeyError\u001b[39;00m(\u001b[39mf\u001b[39m\u001b[39m\"\u001b[39m\u001b[39mNone of [\u001b[39m\u001b[39m{\u001b[39;00mkey\u001b[39m}\u001b[39;00m\u001b[39m] are in the [\u001b[39m\u001b[39m{\u001b[39;00maxis_name\u001b[39m}\u001b[39;00m\u001b[39m]\u001b[39m\u001b[39m\"\u001b[39m)\n\u001b[1;32m   6170\u001b[0m not_found \u001b[39m=\u001b[39m \u001b[39mlist\u001b[39m(ensure_index(key)[missing_mask\u001b[39m.\u001b[39mnonzero()[\u001b[39m0\u001b[39m]]\u001b[39m.\u001b[39munique())\n\u001b[1;32m   6171\u001b[0m \u001b[39mraise\u001b[39;00m \u001b[39mKeyError\u001b[39;00m(\u001b[39mf\u001b[39m\u001b[39m\"\u001b[39m\u001b[39m{\u001b[39;00mnot_found\u001b[39m}\u001b[39;00m\u001b[39m not in index\u001b[39m\u001b[39m\"\u001b[39m)\n",
      "\u001b[0;31mKeyError\u001b[0m: \"None of [Index(['Can I', 'Chicago Freestyle (feat. Giveon)', 'Deep Pockets',\\n       'Demons (feat. Fivio Foreign & Sosa Geek)', 'Desires (with Future)',\\n       'From Florida With Love', 'God's Plan', 'In My Feelings', 'Landed',\\n       'Losses', 'Money In The Grave (Drake ft. Rick Ross)', 'Nice For What',\\n       'Nonstop', 'Not You Too (feat. Chris Brown)',\\n       'Pain 1993 (with Playboi Carti)', 'Passionfruit', 'Time Flies',\\n       'Toosie Slide', 'War', 'When To Say When', 'Trust Issues', 'Omertà',\\n       'Dreams Money Can Buy', 'How Bout Now', '4pm in Calabasas',\\n       '5 Am in Toronto', 'Club Paradise', 'Days in The East', 'Draft Day',\\n       'Free Spirit (feat. Rick Ross)',\\n       'Girls Love Beyoncé (feat. James Fauntleroy)', 'Heat Of The Moment',\\n       'I Get Lonely', 'Jodeci Freestyle (feat. J. Cole)', 'My Side',\\n       'Paris Morton Music', 'The Motion', 'Behind Barz - Bonus',\\n       'Laugh Now Cry Later (feat. Lil Durk)',\\n       'Wants and Needs (feat. Lil Baby)', 'What’s Next',\\n       'Lemon Pepper Freestyle (feat. Rick Ross)', '7am On Bridle Path',\\n       'Champagne Poetry', 'F*****g Fans', 'Fair Trade (with Travis Scott)',\\n       'Fountains (with Tems)', 'Girls Want Girls (with Lil Baby)',\\n       'IMY2 (with Kid Cudi)', 'In The Bible (with Lil Durk & Giveon)',\\n       'Knife Talk (with 21 Savage ft. Project Pat)', 'Love All (with JAY-Z)',\\n       'No Friends In The Industry', 'Papi’s Home', 'Pipe Down',\\n       'Race My Mind', 'TSU', 'The Remorse',\\n       'Way 2 Sexy (with Future & Young Thug)',\\n       'You Only Live Twice (with Lil Wayne & Rick Ross)'],\\n      dtype='object')] are in the [columns]\""
     ]
    }
   ],
   "source": [
    "# songs in choosen charts for given parameters\n",
    "\n",
    "unique_values = some_other_data['title'].drop_duplicates()\n",
    "some_other_data[unique_values].head()"
   ]
  },
  {
   "cell_type": "code",
   "execution_count": 201,
   "metadata": {},
   "outputs": [
    {
     "data": {
      "text/html": [
       "<div>\n",
       "<style scoped>\n",
       "    .dataframe tbody tr th:only-of-type {\n",
       "        vertical-align: middle;\n",
       "    }\n",
       "\n",
       "    .dataframe tbody tr th {\n",
       "        vertical-align: top;\n",
       "    }\n",
       "\n",
       "    .dataframe thead th {\n",
       "        text-align: right;\n",
       "    }\n",
       "</style>\n",
       "<table border=\"1\" class=\"dataframe\">\n",
       "  <thead>\n",
       "    <tr style=\"text-align: right;\">\n",
       "      <th></th>\n",
       "      <th>title</th>\n",
       "      <th>rank</th>\n",
       "      <th>date</th>\n",
       "      <th>artist</th>\n",
       "      <th>url</th>\n",
       "      <th>region</th>\n",
       "      <th>chart</th>\n",
       "      <th>trend</th>\n",
       "      <th>streams</th>\n",
       "    </tr>\n",
       "  </thead>\n",
       "  <tbody>\n",
       "    <tr>\n",
       "      <th>92434</th>\n",
       "      <td>Can I</td>\n",
       "      <td>63</td>\n",
       "      <td>2019-08-02</td>\n",
       "      <td>Drake</td>\n",
       "      <td>https://open.spotify.com/track/3e0ZGE7Gp034iLk...</td>\n",
       "      <td>United States</td>\n",
       "      <td>top200</td>\n",
       "      <td>NEW_ENTRY</td>\n",
       "      <td>435912</td>\n",
       "    </tr>\n",
       "    <tr>\n",
       "      <th>202026</th>\n",
       "      <td>Can I</td>\n",
       "      <td>107</td>\n",
       "      <td>2019-08-03</td>\n",
       "      <td>Drake</td>\n",
       "      <td>https://open.spotify.com/track/3e0ZGE7Gp034iLk...</td>\n",
       "      <td>United States</td>\n",
       "      <td>top200</td>\n",
       "      <td>MOVE_DOWN</td>\n",
       "      <td>291788</td>\n",
       "    </tr>\n",
       "    <tr>\n",
       "      <th>187337</th>\n",
       "      <td>Chicago Freestyle (feat. Giveon)</td>\n",
       "      <td>136</td>\n",
       "      <td>2021-03-09</td>\n",
       "      <td>Drake</td>\n",
       "      <td>https://open.spotify.com/track/4wVOKKEHUJxHCFF...</td>\n",
       "      <td>United States</td>\n",
       "      <td>top200</td>\n",
       "      <td>MOVE_DOWN</td>\n",
       "      <td>237303</td>\n",
       "    </tr>\n",
       "    <tr>\n",
       "      <th>214209</th>\n",
       "      <td>Chicago Freestyle (feat. Giveon)</td>\n",
       "      <td>30</td>\n",
       "      <td>2020-05-22</td>\n",
       "      <td>Drake</td>\n",
       "      <td>https://open.spotify.com/track/4wVOKKEHUJxHCFF...</td>\n",
       "      <td>United States</td>\n",
       "      <td>top200</td>\n",
       "      <td>MOVE_DOWN</td>\n",
       "      <td>643769</td>\n",
       "    </tr>\n",
       "    <tr>\n",
       "      <th>422078</th>\n",
       "      <td>Chicago Freestyle (feat. Giveon)</td>\n",
       "      <td>50</td>\n",
       "      <td>2020-07-23</td>\n",
       "      <td>Drake</td>\n",
       "      <td>https://open.spotify.com/track/4wVOKKEHUJxHCFF...</td>\n",
       "      <td>United States</td>\n",
       "      <td>top200</td>\n",
       "      <td>MOVE_DOWN</td>\n",
       "      <td>463795</td>\n",
       "    </tr>\n",
       "  </tbody>\n",
       "</table>\n",
       "</div>"
      ],
      "text/plain": [
       "                                   title  rank       date artist  \\\n",
       "92434                              Can I    63 2019-08-02  Drake   \n",
       "202026                             Can I   107 2019-08-03  Drake   \n",
       "187337  Chicago Freestyle (feat. Giveon)   136 2021-03-09  Drake   \n",
       "214209  Chicago Freestyle (feat. Giveon)    30 2020-05-22  Drake   \n",
       "422078  Chicago Freestyle (feat. Giveon)    50 2020-07-23  Drake   \n",
       "\n",
       "                                                      url         region  \\\n",
       "92434   https://open.spotify.com/track/3e0ZGE7Gp034iLk...  United States   \n",
       "202026  https://open.spotify.com/track/3e0ZGE7Gp034iLk...  United States   \n",
       "187337  https://open.spotify.com/track/4wVOKKEHUJxHCFF...  United States   \n",
       "214209  https://open.spotify.com/track/4wVOKKEHUJxHCFF...  United States   \n",
       "422078  https://open.spotify.com/track/4wVOKKEHUJxHCFF...  United States   \n",
       "\n",
       "         chart      trend  streams  \n",
       "92434   top200  NEW_ENTRY   435912  \n",
       "202026  top200  MOVE_DOWN   291788  \n",
       "187337  top200  MOVE_DOWN   237303  \n",
       "214209  top200  MOVE_DOWN   643769  \n",
       "422078  top200  MOVE_DOWN   463795  "
      ]
     },
     "execution_count": 201,
     "metadata": {},
     "output_type": "execute_result"
    }
   ],
   "source": []
  },
  {
   "cell_type": "code",
   "execution_count": null,
   "metadata": {},
   "outputs": [],
   "source": []
  }
 ],
 "metadata": {
  "kernelspec": {
   "display_name": "Python 3.8.10 ('env': venv)",
   "language": "python",
   "name": "python3"
  },
  "language_info": {
   "codemirror_mode": {
    "name": "ipython",
    "version": 3
   },
   "file_extension": ".py",
   "mimetype": "text/x-python",
   "name": "python",
   "nbconvert_exporter": "python",
   "pygments_lexer": "ipython3",
   "version": "3.8.10"
  },
  "orig_nbformat": 4,
  "vscode": {
   "interpreter": {
    "hash": "1036caac0b3b72e5b28397a0163cfbe546bdc853c5d6fb275bae20afcfb1764e"
   }
  }
 },
 "nbformat": 4,
 "nbformat_minor": 2
}
