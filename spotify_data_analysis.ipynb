{
 "cells": [
  {
   "cell_type": "markdown",
   "metadata": {},
   "source": [
    "# Spotify Data Visualization"
   ]
  },
  {
   "cell_type": "markdown",
   "metadata": {},
   "source": [
    "## 1.1 Importing data and libraries"
   ]
  },
  {
   "cell_type": "code",
   "execution_count": 45,
   "metadata": {},
   "outputs": [],
   "source": [
    "import pandas as pd\n",
    "import plotly.express as px\n",
    "import matplotlib.pyplot as plt\n",
    "import seaborn as sns\n",
    "from dask import dataframe as dd"
   ]
  },
  {
   "cell_type": "code",
   "execution_count": 46,
   "metadata": {},
   "outputs": [],
   "source": [
    "# reading a file as a pandas dataframe requires 13 GB+ memory alocation. The file loaded this way is too large.\n",
    "# reading a file as a dask dataframe due to size with a dtypes choosed by default pandas reader\n",
    "# more about dask in dataframes: https://docs.dask.org/en/stable/dataframe.html\n",
    "\n",
    "dask_dataframe = dd.read_csv('spotify_charts.csv', \n",
    "                     dtype=object)"
   ]
  },
  {
   "cell_type": "markdown",
   "metadata": {},
   "source": [
    "## 1.2 Data exploration and optimization stage"
   ]
  },
  {
   "cell_type": "code",
   "execution_count": 47,
   "metadata": {},
   "outputs": [
    {
     "name": "stdout",
     "output_type": "stream",
     "text": [
      "<class 'dask.dataframe.core.DataFrame'>\n",
      "Columns: 9 entries, title to streams\n",
      "dtypes: object(9)\n",
      "memory usage: 1.8 GB\n"
     ]
    }
   ],
   "source": [
    "# dask dataframe size info\n",
    "\n",
    "dask_dataframe.info(memory_usage='deep')\n"
   ]
  },
  {
   "cell_type": "code",
   "execution_count": 48,
   "metadata": {},
   "outputs": [
    {
     "data": {
      "text/html": [
       "<div>\n",
       "<style scoped>\n",
       "    .dataframe tbody tr th:only-of-type {\n",
       "        vertical-align: middle;\n",
       "    }\n",
       "\n",
       "    .dataframe tbody tr th {\n",
       "        vertical-align: top;\n",
       "    }\n",
       "\n",
       "    .dataframe thead th {\n",
       "        text-align: right;\n",
       "    }\n",
       "</style>\n",
       "<table border=\"1\" class=\"dataframe\">\n",
       "  <thead>\n",
       "    <tr style=\"text-align: right;\">\n",
       "      <th></th>\n",
       "      <th>title</th>\n",
       "      <th>rank</th>\n",
       "      <th>date</th>\n",
       "      <th>artist</th>\n",
       "      <th>url</th>\n",
       "      <th>region</th>\n",
       "      <th>chart</th>\n",
       "      <th>trend</th>\n",
       "      <th>streams</th>\n",
       "    </tr>\n",
       "  </thead>\n",
       "  <tbody>\n",
       "    <tr>\n",
       "      <th>0</th>\n",
       "      <td>Chantaje (feat. Maluma)</td>\n",
       "      <td>1</td>\n",
       "      <td>2017-01-01</td>\n",
       "      <td>Shakira</td>\n",
       "      <td>https://open.spotify.com/track/6mICuAdrwEjh6Y6...</td>\n",
       "      <td>Argentina</td>\n",
       "      <td>top200</td>\n",
       "      <td>SAME_POSITION</td>\n",
       "      <td>253019</td>\n",
       "    </tr>\n",
       "    <tr>\n",
       "      <th>1</th>\n",
       "      <td>Vente Pa' Ca (feat. Maluma)</td>\n",
       "      <td>2</td>\n",
       "      <td>2017-01-01</td>\n",
       "      <td>Ricky Martin</td>\n",
       "      <td>https://open.spotify.com/track/7DM4BPaS7uofFul...</td>\n",
       "      <td>Argentina</td>\n",
       "      <td>top200</td>\n",
       "      <td>MOVE_UP</td>\n",
       "      <td>223988</td>\n",
       "    </tr>\n",
       "    <tr>\n",
       "      <th>2</th>\n",
       "      <td>Reggaetón Lento (Bailemos)</td>\n",
       "      <td>3</td>\n",
       "      <td>2017-01-01</td>\n",
       "      <td>CNCO</td>\n",
       "      <td>https://open.spotify.com/track/3AEZUABDXNtecAO...</td>\n",
       "      <td>Argentina</td>\n",
       "      <td>top200</td>\n",
       "      <td>MOVE_DOWN</td>\n",
       "      <td>210943</td>\n",
       "    </tr>\n",
       "    <tr>\n",
       "      <th>3</th>\n",
       "      <td>Safari</td>\n",
       "      <td>4</td>\n",
       "      <td>2017-01-01</td>\n",
       "      <td>J Balvin, Pharrell Williams, BIA, Sky</td>\n",
       "      <td>https://open.spotify.com/track/6rQSrBHf7HlZjtc...</td>\n",
       "      <td>Argentina</td>\n",
       "      <td>top200</td>\n",
       "      <td>SAME_POSITION</td>\n",
       "      <td>173865</td>\n",
       "    </tr>\n",
       "    <tr>\n",
       "      <th>4</th>\n",
       "      <td>Shaky Shaky</td>\n",
       "      <td>5</td>\n",
       "      <td>2017-01-01</td>\n",
       "      <td>Daddy Yankee</td>\n",
       "      <td>https://open.spotify.com/track/58IL315gMSTD37D...</td>\n",
       "      <td>Argentina</td>\n",
       "      <td>top200</td>\n",
       "      <td>MOVE_UP</td>\n",
       "      <td>153956</td>\n",
       "    </tr>\n",
       "  </tbody>\n",
       "</table>\n",
       "</div>"
      ],
      "text/plain": [
       "                         title rank        date  \\\n",
       "0      Chantaje (feat. Maluma)    1  2017-01-01   \n",
       "1  Vente Pa' Ca (feat. Maluma)    2  2017-01-01   \n",
       "2   Reggaetón Lento (Bailemos)    3  2017-01-01   \n",
       "3                       Safari    4  2017-01-01   \n",
       "4                  Shaky Shaky    5  2017-01-01   \n",
       "\n",
       "                                  artist  \\\n",
       "0                                Shakira   \n",
       "1                           Ricky Martin   \n",
       "2                                   CNCO   \n",
       "3  J Balvin, Pharrell Williams, BIA, Sky   \n",
       "4                           Daddy Yankee   \n",
       "\n",
       "                                                 url     region   chart  \\\n",
       "0  https://open.spotify.com/track/6mICuAdrwEjh6Y6...  Argentina  top200   \n",
       "1  https://open.spotify.com/track/7DM4BPaS7uofFul...  Argentina  top200   \n",
       "2  https://open.spotify.com/track/3AEZUABDXNtecAO...  Argentina  top200   \n",
       "3  https://open.spotify.com/track/6rQSrBHf7HlZjtc...  Argentina  top200   \n",
       "4  https://open.spotify.com/track/58IL315gMSTD37D...  Argentina  top200   \n",
       "\n",
       "           trend streams  \n",
       "0  SAME_POSITION  253019  \n",
       "1        MOVE_UP  223988  \n",
       "2      MOVE_DOWN  210943  \n",
       "3  SAME_POSITION  173865  \n",
       "4        MOVE_UP  153956  "
      ]
     },
     "execution_count": 48,
     "metadata": {},
     "output_type": "execute_result"
    }
   ],
   "source": [
    "dask_dataframe.head()"
   ]
  },
  {
   "cell_type": "code",
   "execution_count": 49,
   "metadata": {},
   "outputs": [
    {
     "name": "stdout",
     "output_type": "stream",
     "text": [
      "unique values in title: 164758\n",
      "unique values in rank: 200\n",
      "unique values in date: 1826\n",
      "unique values in artist: 96115\n",
      "unique values in url: 217644\n",
      "unique values in region: 70\n",
      "unique values in chart: 2\n",
      "unique values in trend: 4\n",
      "unique values in streams: 788013\n"
     ]
    }
   ],
   "source": [
    "# checking the number of unique values \n",
    "\n",
    "for col in dask_dataframe.columns:\n",
    "    print(f'unique values in {col}: {dask_dataframe[col].nunique().compute()}')\n",
    "    \n",
    "# its longer to compute every single column in dask dataframe but working with a 13 GB pandas dataframe is avoided. "
   ]
  },
  {
   "cell_type": "code",
   "execution_count": 50,
   "metadata": {},
   "outputs": [],
   "source": [
    "# changing of data types from object to category/int for elements that have relatively few unique values (in comparison to number of all entries)\n",
    "\n",
    "to_category_cols = ['title', 'url', 'date', 'artist', 'region', 'trend', 'chart']\n",
    "to_int32_cols = ['rank']\n",
    "\n",
    "for col in to_category_cols:\n",
    "    dask_dataframe[col] = dask_dataframe[col].astype('category')\n",
    "        \n",
    "for col in to_int32_cols:\n",
    "    dask_dataframe[col] = dask_dataframe[col].astype('int32')\n"
   ]
  },
  {
   "cell_type": "code",
   "execution_count": 51,
   "metadata": {},
   "outputs": [
    {
     "name": "stdout",
     "output_type": "stream",
     "text": [
      "<class 'dask.dataframe.core.DataFrame'>\n",
      "Columns: 9 entries, title to streams\n",
      "dtypes: category(7), object(1), int32(1)\n",
      "memory usage: 643.2 MB\n"
     ]
    }
   ],
   "source": [
    "# rechecking dask dataframe size info\n",
    "\n",
    "dask_dataframe.info(memory_usage='deep')"
   ]
  },
  {
   "cell_type": "code",
   "execution_count": 52,
   "metadata": {},
   "outputs": [
    {
     "name": "stdout",
     "output_type": "stream",
     "text": [
      "<class 'pandas.core.frame.DataFrame'>\n",
      "Int64Index: 26147953 entries, 0 to 498950\n",
      "Data columns (total 9 columns):\n",
      " #   Column   Dtype   \n",
      "---  ------   -----   \n",
      " 0   title    category\n",
      " 1   rank     int32   \n",
      " 2   date     category\n",
      " 3   artist   category\n",
      " 4   url      category\n",
      " 5   region   category\n",
      " 6   chart    category\n",
      " 7   trend    category\n",
      " 8   streams  object  \n",
      "dtypes: category(7), int32(1), object(1)\n",
      "memory usage: 2.1 GB\n"
     ]
    }
   ],
   "source": [
    "# pandas dataframe size info\n",
    "\n",
    "dataframe = dask_dataframe.compute()\n",
    "\n",
    "dataframe.info(memory_usage='deep')\n",
    "\n",
    "# file is much smaller and after first steps of optimization is possible to work on pandas dataframe again"
   ]
  },
  {
   "cell_type": "code",
   "execution_count": 53,
   "metadata": {},
   "outputs": [
    {
     "name": "stdout",
     "output_type": "stream",
     "text": [
      "NaN values in title: 11\n",
      "NaN values in rank: 0\n",
      "NaN values in date: 0\n",
      "NaN values in artist: 18\n",
      "NaN values in url: 0\n",
      "NaN values in region: 1\n",
      "NaN values in chart: 1\n",
      "NaN values in trend: 1\n",
      "NaN values in streams: 5826049\n"
     ]
    }
   ],
   "source": [
    "# checking the number of NaN values \n",
    "\n",
    "for col in dataframe.columns:\n",
    "    print(f'NaN values in {col}: {dataframe[col].isna().sum()}')\n",
    "    "
   ]
  },
  {
   "cell_type": "code",
   "execution_count": 54,
   "metadata": {},
   "outputs": [],
   "source": [
    "# preparing a NaN values filters\n",
    "\n",
    "title_is_nan = dataframe['title'].isna()\n",
    "artist_is_nan = dataframe['artist'].isna()\n",
    "region_is_nan = dataframe['region'].isna()\n",
    "chart_is_nan = dataframe['chart'].isna()\n",
    "trend_is_nan = dataframe['trend'].isna()\n",
    "streams_is_nan = dataframe['streams'].isna()\n"
   ]
  },
  {
   "cell_type": "code",
   "execution_count": 55,
   "metadata": {},
   "outputs": [
    {
     "data": {
      "text/html": [
       "<div>\n",
       "<style scoped>\n",
       "    .dataframe tbody tr th:only-of-type {\n",
       "        vertical-align: middle;\n",
       "    }\n",
       "\n",
       "    .dataframe tbody tr th {\n",
       "        vertical-align: top;\n",
       "    }\n",
       "\n",
       "    .dataframe thead th {\n",
       "        text-align: right;\n",
       "    }\n",
       "</style>\n",
       "<table border=\"1\" class=\"dataframe\">\n",
       "  <thead>\n",
       "    <tr style=\"text-align: right;\">\n",
       "      <th></th>\n",
       "      <th>title</th>\n",
       "      <th>rank</th>\n",
       "      <th>date</th>\n",
       "      <th>artist</th>\n",
       "      <th>url</th>\n",
       "      <th>region</th>\n",
       "      <th>chart</th>\n",
       "      <th>trend</th>\n",
       "      <th>streams</th>\n",
       "    </tr>\n",
       "  </thead>\n",
       "  <tbody>\n",
       "    <tr>\n",
       "      <th>72604</th>\n",
       "      <td>NaN</td>\n",
       "      <td>120</td>\n",
       "      <td>2019-06-24</td>\n",
       "      <td>Nissy</td>\n",
       "      <td>https://open.spotify.com/track/4cP6KmNvTFkLHZo...</td>\n",
       "      <td>Japan</td>\n",
       "      <td>top200</td>\n",
       "      <td>NEW_ENTRY</td>\n",
       "      <td>11942</td>\n",
       "    </tr>\n",
       "    <tr>\n",
       "      <th>169157</th>\n",
       "      <td>NaN</td>\n",
       "      <td>167</td>\n",
       "      <td>2019-06-25</td>\n",
       "      <td>Nissy</td>\n",
       "      <td>https://open.spotify.com/track/4cP6KmNvTFkLHZo...</td>\n",
       "      <td>Japan</td>\n",
       "      <td>top200</td>\n",
       "      <td>MOVE_DOWN</td>\n",
       "      <td>10310</td>\n",
       "    </tr>\n",
       "    <tr>\n",
       "      <th>246763</th>\n",
       "      <td>NaN</td>\n",
       "      <td>128</td>\n",
       "      <td>2019-06-26</td>\n",
       "      <td>Nissy</td>\n",
       "      <td>https://open.spotify.com/track/4cP6KmNvTFkLHZo...</td>\n",
       "      <td>Japan</td>\n",
       "      <td>top200</td>\n",
       "      <td>MOVE_UP</td>\n",
       "      <td>11620</td>\n",
       "    </tr>\n",
       "  </tbody>\n",
       "</table>\n",
       "</div>"
      ],
      "text/plain": [
       "       title  rank        date artist  \\\n",
       "72604    NaN   120  2019-06-24  Nissy   \n",
       "169157   NaN   167  2019-06-25  Nissy   \n",
       "246763   NaN   128  2019-06-26  Nissy   \n",
       "\n",
       "                                                      url region   chart  \\\n",
       "72604   https://open.spotify.com/track/4cP6KmNvTFkLHZo...  Japan  top200   \n",
       "169157  https://open.spotify.com/track/4cP6KmNvTFkLHZo...  Japan  top200   \n",
       "246763  https://open.spotify.com/track/4cP6KmNvTFkLHZo...  Japan  top200   \n",
       "\n",
       "            trend streams  \n",
       "72604   NEW_ENTRY   11942  \n",
       "169157  MOVE_DOWN   10310  \n",
       "246763    MOVE_UP   11620  "
      ]
     },
     "execution_count": 55,
     "metadata": {},
     "output_type": "execute_result"
    }
   ],
   "source": [
    "# NaN data exploratiom\n",
    "dataframe[title_is_nan].head(3)"
   ]
  },
  {
   "cell_type": "code",
   "execution_count": 56,
   "metadata": {},
   "outputs": [
    {
     "data": {
      "text/html": [
       "<div>\n",
       "<style scoped>\n",
       "    .dataframe tbody tr th:only-of-type {\n",
       "        vertical-align: middle;\n",
       "    }\n",
       "\n",
       "    .dataframe tbody tr th {\n",
       "        vertical-align: top;\n",
       "    }\n",
       "\n",
       "    .dataframe thead th {\n",
       "        text-align: right;\n",
       "    }\n",
       "</style>\n",
       "<table border=\"1\" class=\"dataframe\">\n",
       "  <thead>\n",
       "    <tr style=\"text-align: right;\">\n",
       "      <th></th>\n",
       "      <th>title</th>\n",
       "      <th>rank</th>\n",
       "      <th>date</th>\n",
       "      <th>artist</th>\n",
       "      <th>url</th>\n",
       "      <th>region</th>\n",
       "      <th>chart</th>\n",
       "      <th>trend</th>\n",
       "      <th>streams</th>\n",
       "    </tr>\n",
       "  </thead>\n",
       "  <tbody>\n",
       "    <tr>\n",
       "      <th>291605</th>\n",
       "      <td>NO GOOD</td>\n",
       "      <td>10</td>\n",
       "      <td>2020-07-13</td>\n",
       "      <td>NaN</td>\n",
       "      <td>https://open.spotify.com/track/4Qnz8tARYhUtDNe...</td>\n",
       "      <td>Japan</td>\n",
       "      <td>viral50</td>\n",
       "      <td>NEW_ENTRY</td>\n",
       "      <td>NaN</td>\n",
       "    </tr>\n",
       "    <tr>\n",
       "      <th>311398</th>\n",
       "      <td>NO GOOD</td>\n",
       "      <td>10</td>\n",
       "      <td>2020-07-14</td>\n",
       "      <td>NaN</td>\n",
       "      <td>https://open.spotify.com/track/4Qnz8tARYhUtDNe...</td>\n",
       "      <td>Japan</td>\n",
       "      <td>viral50</td>\n",
       "      <td>SAME_POSITION</td>\n",
       "      <td>NaN</td>\n",
       "    </tr>\n",
       "    <tr>\n",
       "      <th>335035</th>\n",
       "      <td>NO GOOD</td>\n",
       "      <td>10</td>\n",
       "      <td>2020-07-15</td>\n",
       "      <td>NaN</td>\n",
       "      <td>https://open.spotify.com/track/4Qnz8tARYhUtDNe...</td>\n",
       "      <td>Japan</td>\n",
       "      <td>viral50</td>\n",
       "      <td>SAME_POSITION</td>\n",
       "      <td>NaN</td>\n",
       "    </tr>\n",
       "  </tbody>\n",
       "</table>\n",
       "</div>"
      ],
      "text/plain": [
       "          title  rank        date artist  \\\n",
       "291605  NO GOOD    10  2020-07-13    NaN   \n",
       "311398  NO GOOD    10  2020-07-14    NaN   \n",
       "335035  NO GOOD    10  2020-07-15    NaN   \n",
       "\n",
       "                                                      url region    chart  \\\n",
       "291605  https://open.spotify.com/track/4Qnz8tARYhUtDNe...  Japan  viral50   \n",
       "311398  https://open.spotify.com/track/4Qnz8tARYhUtDNe...  Japan  viral50   \n",
       "335035  https://open.spotify.com/track/4Qnz8tARYhUtDNe...  Japan  viral50   \n",
       "\n",
       "                trend streams  \n",
       "291605      NEW_ENTRY     NaN  \n",
       "311398  SAME_POSITION     NaN  \n",
       "335035  SAME_POSITION     NaN  "
      ]
     },
     "execution_count": 56,
     "metadata": {},
     "output_type": "execute_result"
    }
   ],
   "source": [
    "# NaN data exploratiom\n",
    "dataframe[artist_is_nan].head(3)"
   ]
  },
  {
   "cell_type": "code",
   "execution_count": 57,
   "metadata": {},
   "outputs": [
    {
     "data": {
      "text/html": [
       "<div>\n",
       "<style scoped>\n",
       "    .dataframe tbody tr th:only-of-type {\n",
       "        vertical-align: middle;\n",
       "    }\n",
       "\n",
       "    .dataframe tbody tr th {\n",
       "        vertical-align: top;\n",
       "    }\n",
       "\n",
       "    .dataframe thead th {\n",
       "        text-align: right;\n",
       "    }\n",
       "</style>\n",
       "<table border=\"1\" class=\"dataframe\">\n",
       "  <thead>\n",
       "    <tr style=\"text-align: right;\">\n",
       "      <th></th>\n",
       "      <th>title</th>\n",
       "      <th>rank</th>\n",
       "      <th>date</th>\n",
       "      <th>artist</th>\n",
       "      <th>url</th>\n",
       "      <th>region</th>\n",
       "      <th>chart</th>\n",
       "      <th>trend</th>\n",
       "      <th>streams</th>\n",
       "    </tr>\n",
       "  </thead>\n",
       "  <tbody>\n",
       "    <tr>\n",
       "      <th>498950</th>\n",
       "      <td>Tengo La Personalidad</td>\n",
       "      <td>47</td>\n",
       "      <td>2021-07-24</td>\n",
       "      <td>Chikybombom La Pantera</td>\n",
       "      <td>https://open.spotify.com/trac</td>\n",
       "      <td>NaN</td>\n",
       "      <td>NaN</td>\n",
       "      <td>NaN</td>\n",
       "      <td>NaN</td>\n",
       "    </tr>\n",
       "  </tbody>\n",
       "</table>\n",
       "</div>"
      ],
      "text/plain": [
       "                        title  rank        date                  artist  \\\n",
       "498950  Tengo La Personalidad    47  2021-07-24  Chikybombom La Pantera   \n",
       "\n",
       "                                  url region chart trend streams  \n",
       "498950  https://open.spotify.com/trac    NaN   NaN   NaN     NaN  "
      ]
     },
     "execution_count": 57,
     "metadata": {},
     "output_type": "execute_result"
    }
   ],
   "source": [
    "# NaN data exploratiom\n",
    "dataframe[region_is_nan].head(3)"
   ]
  },
  {
   "cell_type": "code",
   "execution_count": 58,
   "metadata": {},
   "outputs": [
    {
     "data": {
      "text/html": [
       "<div>\n",
       "<style scoped>\n",
       "    .dataframe tbody tr th:only-of-type {\n",
       "        vertical-align: middle;\n",
       "    }\n",
       "\n",
       "    .dataframe tbody tr th {\n",
       "        vertical-align: top;\n",
       "    }\n",
       "\n",
       "    .dataframe thead th {\n",
       "        text-align: right;\n",
       "    }\n",
       "</style>\n",
       "<table border=\"1\" class=\"dataframe\">\n",
       "  <thead>\n",
       "    <tr style=\"text-align: right;\">\n",
       "      <th></th>\n",
       "      <th>title</th>\n",
       "      <th>rank</th>\n",
       "      <th>date</th>\n",
       "      <th>artist</th>\n",
       "      <th>url</th>\n",
       "      <th>region</th>\n",
       "      <th>chart</th>\n",
       "      <th>trend</th>\n",
       "      <th>streams</th>\n",
       "    </tr>\n",
       "  </thead>\n",
       "  <tbody>\n",
       "    <tr>\n",
       "      <th>498950</th>\n",
       "      <td>Tengo La Personalidad</td>\n",
       "      <td>47</td>\n",
       "      <td>2021-07-24</td>\n",
       "      <td>Chikybombom La Pantera</td>\n",
       "      <td>https://open.spotify.com/trac</td>\n",
       "      <td>NaN</td>\n",
       "      <td>NaN</td>\n",
       "      <td>NaN</td>\n",
       "      <td>NaN</td>\n",
       "    </tr>\n",
       "  </tbody>\n",
       "</table>\n",
       "</div>"
      ],
      "text/plain": [
       "                        title  rank        date                  artist  \\\n",
       "498950  Tengo La Personalidad    47  2021-07-24  Chikybombom La Pantera   \n",
       "\n",
       "                                  url region chart trend streams  \n",
       "498950  https://open.spotify.com/trac    NaN   NaN   NaN     NaN  "
      ]
     },
     "execution_count": 58,
     "metadata": {},
     "output_type": "execute_result"
    }
   ],
   "source": [
    "# NaN data exploratiom\n",
    "dataframe[chart_is_nan].head(3)"
   ]
  },
  {
   "cell_type": "code",
   "execution_count": 59,
   "metadata": {},
   "outputs": [
    {
     "data": {
      "text/html": [
       "<div>\n",
       "<style scoped>\n",
       "    .dataframe tbody tr th:only-of-type {\n",
       "        vertical-align: middle;\n",
       "    }\n",
       "\n",
       "    .dataframe tbody tr th {\n",
       "        vertical-align: top;\n",
       "    }\n",
       "\n",
       "    .dataframe thead th {\n",
       "        text-align: right;\n",
       "    }\n",
       "</style>\n",
       "<table border=\"1\" class=\"dataframe\">\n",
       "  <thead>\n",
       "    <tr style=\"text-align: right;\">\n",
       "      <th></th>\n",
       "      <th>title</th>\n",
       "      <th>rank</th>\n",
       "      <th>date</th>\n",
       "      <th>artist</th>\n",
       "      <th>url</th>\n",
       "      <th>region</th>\n",
       "      <th>chart</th>\n",
       "      <th>trend</th>\n",
       "      <th>streams</th>\n",
       "    </tr>\n",
       "  </thead>\n",
       "  <tbody>\n",
       "    <tr>\n",
       "      <th>498950</th>\n",
       "      <td>Tengo La Personalidad</td>\n",
       "      <td>47</td>\n",
       "      <td>2021-07-24</td>\n",
       "      <td>Chikybombom La Pantera</td>\n",
       "      <td>https://open.spotify.com/trac</td>\n",
       "      <td>NaN</td>\n",
       "      <td>NaN</td>\n",
       "      <td>NaN</td>\n",
       "      <td>NaN</td>\n",
       "    </tr>\n",
       "  </tbody>\n",
       "</table>\n",
       "</div>"
      ],
      "text/plain": [
       "                        title  rank        date                  artist  \\\n",
       "498950  Tengo La Personalidad    47  2021-07-24  Chikybombom La Pantera   \n",
       "\n",
       "                                  url region chart trend streams  \n",
       "498950  https://open.spotify.com/trac    NaN   NaN   NaN     NaN  "
      ]
     },
     "execution_count": 59,
     "metadata": {},
     "output_type": "execute_result"
    }
   ],
   "source": [
    "# NaN data exploratiom\n",
    "dataframe[trend_is_nan].head(3)"
   ]
  },
  {
   "cell_type": "code",
   "execution_count": 60,
   "metadata": {},
   "outputs": [
    {
     "data": {
      "text/html": [
       "<div>\n",
       "<style scoped>\n",
       "    .dataframe tbody tr th:only-of-type {\n",
       "        vertical-align: middle;\n",
       "    }\n",
       "\n",
       "    .dataframe tbody tr th {\n",
       "        vertical-align: top;\n",
       "    }\n",
       "\n",
       "    .dataframe thead th {\n",
       "        text-align: right;\n",
       "    }\n",
       "</style>\n",
       "<table border=\"1\" class=\"dataframe\">\n",
       "  <thead>\n",
       "    <tr style=\"text-align: right;\">\n",
       "      <th></th>\n",
       "      <th>title</th>\n",
       "      <th>rank</th>\n",
       "      <th>date</th>\n",
       "      <th>artist</th>\n",
       "      <th>url</th>\n",
       "      <th>region</th>\n",
       "      <th>chart</th>\n",
       "      <th>trend</th>\n",
       "      <th>streams</th>\n",
       "    </tr>\n",
       "  </thead>\n",
       "  <tbody>\n",
       "    <tr>\n",
       "      <th>215201</th>\n",
       "      <td>Would You Ever</td>\n",
       "      <td>4</td>\n",
       "      <td>2017-08-13</td>\n",
       "      <td>Skrillex, Poo Bear</td>\n",
       "      <td>https://open.spotify.com/track/57p8CBvPOxrvyCb...</td>\n",
       "      <td>Greece</td>\n",
       "      <td>viral50</td>\n",
       "      <td>MOVE_UP</td>\n",
       "      <td>NaN</td>\n",
       "    </tr>\n",
       "    <tr>\n",
       "      <th>61978</th>\n",
       "      <td>More Than Friends</td>\n",
       "      <td>13</td>\n",
       "      <td>2018-09-09</td>\n",
       "      <td>ASHS</td>\n",
       "      <td>https://open.spotify.com/track/1B5D54trx9aVufP...</td>\n",
       "      <td>Canada</td>\n",
       "      <td>viral50</td>\n",
       "      <td>MOVE_UP</td>\n",
       "      <td>NaN</td>\n",
       "    </tr>\n",
       "    <tr>\n",
       "      <th>432008</th>\n",
       "      <td>Corazón</td>\n",
       "      <td>2</td>\n",
       "      <td>2017-12-19</td>\n",
       "      <td>Maluma, Nego do Borel</td>\n",
       "      <td>https://open.spotify.com/track/4lESS6vuruP6a79...</td>\n",
       "      <td>Argentina</td>\n",
       "      <td>viral50</td>\n",
       "      <td>SAME_POSITION</td>\n",
       "      <td>NaN</td>\n",
       "    </tr>\n",
       "    <tr>\n",
       "      <th>25745</th>\n",
       "      <td>Bad boy</td>\n",
       "      <td>16</td>\n",
       "      <td>2021-01-12</td>\n",
       "      <td>Marwa Loud</td>\n",
       "      <td>https://open.spotify.com/track/0RE4crnT3jRms1x...</td>\n",
       "      <td>El Salvador</td>\n",
       "      <td>viral50</td>\n",
       "      <td>SAME_POSITION</td>\n",
       "      <td>NaN</td>\n",
       "    </tr>\n",
       "    <tr>\n",
       "      <th>417706</th>\n",
       "      <td>Shotta Flow</td>\n",
       "      <td>3</td>\n",
       "      <td>2019-02-17</td>\n",
       "      <td>NLE Choppa</td>\n",
       "      <td>https://open.spotify.com/track/4dAMdQ6g4kGmnc1...</td>\n",
       "      <td>Canada</td>\n",
       "      <td>viral50</td>\n",
       "      <td>MOVE_UP</td>\n",
       "      <td>NaN</td>\n",
       "    </tr>\n",
       "  </tbody>\n",
       "</table>\n",
       "</div>"
      ],
      "text/plain": [
       "                    title  rank        date                 artist  \\\n",
       "215201     Would You Ever     4  2017-08-13     Skrillex, Poo Bear   \n",
       "61978   More Than Friends    13  2018-09-09                   ASHS   \n",
       "432008            Corazón     2  2017-12-19  Maluma, Nego do Borel   \n",
       "25745             Bad boy    16  2021-01-12             Marwa Loud   \n",
       "417706        Shotta Flow     3  2019-02-17             NLE Choppa   \n",
       "\n",
       "                                                      url       region  \\\n",
       "215201  https://open.spotify.com/track/57p8CBvPOxrvyCb...       Greece   \n",
       "61978   https://open.spotify.com/track/1B5D54trx9aVufP...       Canada   \n",
       "432008  https://open.spotify.com/track/4lESS6vuruP6a79...    Argentina   \n",
       "25745   https://open.spotify.com/track/0RE4crnT3jRms1x...  El Salvador   \n",
       "417706  https://open.spotify.com/track/4dAMdQ6g4kGmnc1...       Canada   \n",
       "\n",
       "          chart          trend streams  \n",
       "215201  viral50        MOVE_UP     NaN  \n",
       "61978   viral50        MOVE_UP     NaN  \n",
       "432008  viral50  SAME_POSITION     NaN  \n",
       "25745   viral50  SAME_POSITION     NaN  \n",
       "417706  viral50        MOVE_UP     NaN  "
      ]
     },
     "execution_count": 60,
     "metadata": {},
     "output_type": "execute_result"
    }
   ],
   "source": [
    "# NaN data exploratiom\n",
    "dataframe[streams_is_nan].sample(5)"
   ]
  },
  {
   "cell_type": "code",
   "execution_count": 61,
   "metadata": {},
   "outputs": [
    {
     "data": {
      "text/plain": [
       "0"
      ]
     },
     "execution_count": 61,
     "metadata": {},
     "output_type": "execute_result"
    }
   ],
   "source": [
    "# checking if 'streams' contains any '0' values\n",
    "\n",
    "streams_is_null = dataframe['streams'] == 0\n",
    "\n",
    "len(dataframe[streams_is_null])\n",
    "\n"
   ]
  },
  {
   "cell_type": "code",
   "execution_count": 62,
   "metadata": {},
   "outputs": [],
   "source": [
    "# replacing NaN values with a zeros without losing any data\n",
    "\n",
    "dataframe['streams'].fillna(value=0, inplace=True)"
   ]
  },
  {
   "cell_type": "code",
   "execution_count": 63,
   "metadata": {},
   "outputs": [],
   "source": [
    "# changing of data types of 'streams' from float64 to int32\n",
    "\n",
    "dataframe['streams'] = dataframe['streams'].astype('int32')"
   ]
  },
  {
   "cell_type": "code",
   "execution_count": 64,
   "metadata": {},
   "outputs": [],
   "source": [
    "# droping rest records containing NaN values\n",
    "dataframe.dropna(inplace=True)\n"
   ]
  },
  {
   "cell_type": "code",
   "execution_count": 65,
   "metadata": {},
   "outputs": [
    {
     "name": "stdout",
     "output_type": "stream",
     "text": [
      "NaN values in title: 0\n",
      "NaN values in rank: 0\n",
      "NaN values in date: 0\n",
      "NaN values in artist: 0\n",
      "NaN values in url: 0\n",
      "NaN values in region: 0\n",
      "NaN values in chart: 0\n",
      "NaN values in trend: 0\n",
      "NaN values in streams: 0\n"
     ]
    }
   ],
   "source": [
    "# rechecking the number of NaN values \n",
    "\n",
    "for col in dataframe.columns:\n",
    "    print(f'NaN values in {col}: {dataframe[col].isna().sum()}')"
   ]
  },
  {
   "cell_type": "code",
   "execution_count": 66,
   "metadata": {},
   "outputs": [
    {
     "name": "stdout",
     "output_type": "stream",
     "text": [
      "<class 'pandas.core.frame.DataFrame'>\n",
      "Int64Index: 26147923 entries, 0 to 498949\n",
      "Data columns (total 9 columns):\n",
      " #   Column   Dtype   \n",
      "---  ------   -----   \n",
      " 0   title    category\n",
      " 1   rank     int32   \n",
      " 2   date     category\n",
      " 3   artist   category\n",
      " 4   url      category\n",
      " 5   region   category\n",
      " 6   chart    category\n",
      " 7   trend    category\n",
      " 8   streams  int32   \n",
      "dtypes: category(7), int32(2)\n",
      "memory usage: 881.2 MB\n"
     ]
    }
   ],
   "source": [
    "# checking if there is a memory usage saving\n",
    "dataframe.info(memory_usage='deep')\n",
    "\n",
    "\n"
   ]
  }
 ],
 "metadata": {
  "kernelspec": {
   "display_name": "Python 3.8.10 ('env': venv)",
   "language": "python",
   "name": "python3"
  },
  "language_info": {
   "codemirror_mode": {
    "name": "ipython",
    "version": 3
   },
   "file_extension": ".py",
   "mimetype": "text/x-python",
   "name": "python",
   "nbconvert_exporter": "python",
   "pygments_lexer": "ipython3",
   "version": "3.8.10"
  },
  "orig_nbformat": 4,
  "vscode": {
   "interpreter": {
    "hash": "1036caac0b3b72e5b28397a0163cfbe546bdc853c5d6fb275bae20afcfb1764e"
   }
  }
 },
 "nbformat": 4,
 "nbformat_minor": 2
}
