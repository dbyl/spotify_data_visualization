{
 "cells": [
  {
   "cell_type": "markdown",
   "metadata": {},
   "source": [
    "# Spotify Data Visualization"
   ]
  },
  {
   "cell_type": "markdown",
   "metadata": {},
   "source": [
    "## 1.1 Importing data and libraries"
   ]
  },
  {
   "cell_type": "code",
   "execution_count": 1,
   "metadata": {},
   "outputs": [],
   "source": [
    "import pandas as pd\n",
    "import plotly.express as px\n",
    "import matplotlib.pyplot as plt\n",
    "import seaborn as sns"
   ]
  },
  {
   "cell_type": "code",
   "execution_count": 2,
   "metadata": {},
   "outputs": [],
   "source": [
    "#reading a file\n",
    "df_raw = pd.read_csv('spotify_charts.csv')"
   ]
  },
  {
   "cell_type": "markdown",
   "metadata": {},
   "source": [
    "## 1.2 Data exploration and optimization stage"
   ]
  },
  {
   "cell_type": "code",
   "execution_count": 3,
   "metadata": {},
   "outputs": [
    {
     "name": "stdout",
     "output_type": "stream",
     "text": [
      "<class 'pandas.core.frame.DataFrame'>\n",
      "RangeIndex: 26147953 entries, 0 to 26147952\n",
      "Data columns (total 9 columns):\n",
      " #   Column   Dtype  \n",
      "---  ------   -----  \n",
      " 0   title    object \n",
      " 1   rank     int64  \n",
      " 2   date     object \n",
      " 3   artist   object \n",
      " 4   url      object \n",
      " 5   region   object \n",
      " 6   chart    object \n",
      " 7   trend    object \n",
      " 8   streams  float64\n",
      "dtypes: float64(1), int64(1), object(7)\n",
      "memory usage: 13.1 GB\n"
     ]
    }
   ],
   "source": [
    "#working on the source file is necessary due to its size\n",
    "\n",
    "df_raw.info(memory_usage='deep')"
   ]
  },
  {
   "cell_type": "code",
   "execution_count": 4,
   "metadata": {},
   "outputs": [
    {
     "name": "stdout",
     "output_type": "stream",
     "text": [
      "unique values in title: 164758\n",
      "unique values in rank: 200\n",
      "unique values in date: 1826\n",
      "unique values in artist: 96115\n",
      "unique values in url: 217644\n",
      "unique values in region: 70\n",
      "unique values in chart: 2\n",
      "unique values in trend: 4\n",
      "unique values in streams: 788013\n"
     ]
    }
   ],
   "source": [
    "#checking the number of unique values \n",
    "\n",
    "for col in df_raw.columns:\n",
    "    print(f'unique values in {col}: {df_raw[col].nunique()}')"
   ]
  },
  {
   "cell_type": "code",
   "execution_count": 5,
   "metadata": {},
   "outputs": [],
   "source": [
    "#changing of data types from object to category/int for elements that have relatively few unique values (in comparison to number of all entries)\n",
    "\n",
    "df_raw['title'] = df_raw['title'].astype('category')\n",
    "df_raw['rank'] = df_raw['rank'].astype('int32')\n",
    "df_raw['date'] = df_raw['date'].astype('category')\n",
    "df_raw['artist'] = df_raw['artist'].astype('category')\n",
    "df_raw['url'] = df_raw['url'].astype('category')\n",
    "df_raw['region'] = df_raw['region'].astype('category')\n",
    "df_raw['chart'] = df_raw['chart'].astype('category')\n",
    "df_raw['trend'] = df_raw['trend'].astype('category')"
   ]
  },
  {
   "cell_type": "code",
   "execution_count": 14,
   "metadata": {},
   "outputs": [
    {
     "name": "stdout",
     "output_type": "stream",
     "text": [
      "NaN values in title: 0\n",
      "NaN values in rank: 0\n",
      "NaN values in date: 0\n",
      "NaN values in artist: 0\n",
      "NaN values in url: 0\n",
      "NaN values in region: 0\n",
      "NaN values in chart: 0\n",
      "NaN values in trend: 0\n",
      "NaN values in streams: 0\n"
     ]
    }
   ],
   "source": [
    "#checking the number of NaN values \n",
    "\n",
    "for col in df_raw.columns:\n",
    "    print(f'NaN values in {col}: {df_raw[col].isna().sum()}')\n",
    "    "
   ]
  },
  {
   "cell_type": "code",
   "execution_count": 8,
   "metadata": {},
   "outputs": [],
   "source": [
    "title_is_nan = df_raw['title'].isna()\n",
    "artist_is_nan = df_raw['artist'].isna()\n",
    "region_is_nan = df_raw['region'].isna()\n",
    "chart_is_nan = df_raw['chart'].isna()\n",
    "trend_is_nan = df_raw['trend'].isna()\n",
    "streams_is_nan = df_raw['streams'].isna()\n"
   ]
  },
  {
   "cell_type": "code",
   "execution_count": 9,
   "metadata": {},
   "outputs": [
    {
     "data": {
      "text/html": [
       "<div>\n",
       "<style scoped>\n",
       "    .dataframe tbody tr th:only-of-type {\n",
       "        vertical-align: middle;\n",
       "    }\n",
       "\n",
       "    .dataframe tbody tr th {\n",
       "        vertical-align: top;\n",
       "    }\n",
       "\n",
       "    .dataframe thead th {\n",
       "        text-align: right;\n",
       "    }\n",
       "</style>\n",
       "<table border=\"1\" class=\"dataframe\">\n",
       "  <thead>\n",
       "    <tr style=\"text-align: right;\">\n",
       "      <th></th>\n",
       "      <th>title</th>\n",
       "      <th>rank</th>\n",
       "      <th>date</th>\n",
       "      <th>artist</th>\n",
       "      <th>url</th>\n",
       "      <th>region</th>\n",
       "      <th>chart</th>\n",
       "      <th>trend</th>\n",
       "      <th>streams</th>\n",
       "    </tr>\n",
       "  </thead>\n",
       "  <tbody>\n",
       "    <tr>\n",
       "      <th>12808</th>\n",
       "      <td>Boys</td>\n",
       "      <td>13</td>\n",
       "      <td>2017-08-01</td>\n",
       "      <td>Charli XCX</td>\n",
       "      <td>https://open.spotify.com/track/5o4yGlG0PfeVUa6...</td>\n",
       "      <td>Latvia</td>\n",
       "      <td>viral50</td>\n",
       "      <td>MOVE_UP</td>\n",
       "      <td>NaN</td>\n",
       "    </tr>\n",
       "    <tr>\n",
       "      <th>12965</th>\n",
       "      <td>Hold Me</td>\n",
       "      <td>19</td>\n",
       "      <td>2017-08-01</td>\n",
       "      <td>R3HAB</td>\n",
       "      <td>https://open.spotify.com/track/2a9xGmpgNyNz9QV...</td>\n",
       "      <td>Luxembourg</td>\n",
       "      <td>viral50</td>\n",
       "      <td>MOVE_DOWN</td>\n",
       "      <td>NaN</td>\n",
       "    </tr>\n",
       "    <tr>\n",
       "      <th>13781</th>\n",
       "      <td>Hola Hola</td>\n",
       "      <td>40</td>\n",
       "      <td>2017-08-01</td>\n",
       "      <td>KARD</td>\n",
       "      <td>https://open.spotify.com/track/3VC1IEz9M1txlMS...</td>\n",
       "      <td>Peru</td>\n",
       "      <td>viral50</td>\n",
       "      <td>NEW_ENTRY</td>\n",
       "      <td>NaN</td>\n",
       "    </tr>\n",
       "    <tr>\n",
       "      <th>14042</th>\n",
       "      <td>Cuídate</td>\n",
       "      <td>4</td>\n",
       "      <td>2017-08-01</td>\n",
       "      <td>Zetazen</td>\n",
       "      <td>https://open.spotify.com/track/0WgnbqlHieZmdYa...</td>\n",
       "      <td>Spain</td>\n",
       "      <td>viral50</td>\n",
       "      <td>SAME_POSITION</td>\n",
       "      <td>NaN</td>\n",
       "    </tr>\n",
       "    <tr>\n",
       "      <th>14092</th>\n",
       "      <td>Boys</td>\n",
       "      <td>13</td>\n",
       "      <td>2017-08-01</td>\n",
       "      <td>Charli XCX</td>\n",
       "      <td>https://open.spotify.com/track/5o4yGlG0PfeVUa6...</td>\n",
       "      <td>Taiwan</td>\n",
       "      <td>viral50</td>\n",
       "      <td>MOVE_DOWN</td>\n",
       "      <td>NaN</td>\n",
       "    </tr>\n",
       "  </tbody>\n",
       "</table>\n",
       "</div>"
      ],
      "text/plain": [
       "           title  rank        date      artist  \\\n",
       "12808       Boys    13  2017-08-01  Charli XCX   \n",
       "12965    Hold Me    19  2017-08-01       R3HAB   \n",
       "13781  Hola Hola    40  2017-08-01        KARD   \n",
       "14042    Cuídate     4  2017-08-01     Zetazen   \n",
       "14092       Boys    13  2017-08-01  Charli XCX   \n",
       "\n",
       "                                                     url      region    chart  \\\n",
       "12808  https://open.spotify.com/track/5o4yGlG0PfeVUa6...      Latvia  viral50   \n",
       "12965  https://open.spotify.com/track/2a9xGmpgNyNz9QV...  Luxembourg  viral50   \n",
       "13781  https://open.spotify.com/track/3VC1IEz9M1txlMS...        Peru  viral50   \n",
       "14042  https://open.spotify.com/track/0WgnbqlHieZmdYa...       Spain  viral50   \n",
       "14092  https://open.spotify.com/track/5o4yGlG0PfeVUa6...      Taiwan  viral50   \n",
       "\n",
       "               trend  streams  \n",
       "12808        MOVE_UP      NaN  \n",
       "12965      MOVE_DOWN      NaN  \n",
       "13781      NEW_ENTRY      NaN  \n",
       "14042  SAME_POSITION      NaN  \n",
       "14092      MOVE_DOWN      NaN  "
      ]
     },
     "execution_count": 9,
     "metadata": {},
     "output_type": "execute_result"
    }
   ],
   "source": [
    "# NaN data exploratiom\n",
    "df_raw[streams_is_nan].head()"
   ]
  },
  {
   "cell_type": "code",
   "execution_count": 10,
   "metadata": {},
   "outputs": [
    {
     "data": {
      "text/plain": [
       "0"
      ]
     },
     "execution_count": 10,
     "metadata": {},
     "output_type": "execute_result"
    }
   ],
   "source": [
    "# checking if 'streams' contains any '0' values\n",
    "\n",
    "streams_is_null = df_raw['streams'] == 0\n",
    "\n",
    "len(df_raw[streams_is_null])\n",
    "\n"
   ]
  },
  {
   "cell_type": "code",
   "execution_count": 11,
   "metadata": {},
   "outputs": [],
   "source": [
    "# replacing NaN values with a zeros without losing any data\n",
    "\n",
    "df_raw['streams'].fillna(value=0, inplace=True)"
   ]
  },
  {
   "cell_type": "code",
   "execution_count": 12,
   "metadata": {},
   "outputs": [],
   "source": [
    "#changing of data types of 'streams' from float64 to int32\n",
    "\n",
    "df_raw['streams'] = df_raw['streams'].astype('int32')"
   ]
  },
  {
   "cell_type": "code",
   "execution_count": 13,
   "metadata": {},
   "outputs": [],
   "source": [
    "# droping rest records containing NaN values\n",
    "df_raw.dropna(inplace=True)\n"
   ]
  },
  {
   "cell_type": "code",
   "execution_count": 15,
   "metadata": {},
   "outputs": [
    {
     "name": "stdout",
     "output_type": "stream",
     "text": [
      "<class 'pandas.core.frame.DataFrame'>\n",
      "Int64Index: 26147923 entries, 0 to 26147951\n",
      "Data columns (total 9 columns):\n",
      " #   Column   Dtype   \n",
      "---  ------   -----   \n",
      " 0   title    category\n",
      " 1   rank     int32   \n",
      " 2   date     category\n",
      " 3   artist   category\n",
      " 4   url      category\n",
      " 5   region   category\n",
      " 6   chart    category\n",
      " 7   trend    category\n",
      " 8   streams  int32   \n",
      "dtypes: category(7), int32(2)\n",
      "memory usage: 880.0 MB\n"
     ]
    }
   ],
   "source": [
    "# checking if there is a memory usage saving\n",
    "df_raw.info(memory_usage='deep')\n",
    "\n",
    "\n",
    "\n",
    "# 13.1 GB to 880.0 MB\n"
   ]
  }
 ],
 "metadata": {
  "kernelspec": {
   "display_name": "Python 3.8.10 ('env': venv)",
   "language": "python",
   "name": "python3"
  },
  "language_info": {
   "codemirror_mode": {
    "name": "ipython",
    "version": 3
   },
   "file_extension": ".py",
   "mimetype": "text/x-python",
   "name": "python",
   "nbconvert_exporter": "python",
   "pygments_lexer": "ipython3",
   "version": "3.8.10"
  },
  "orig_nbformat": 4,
  "vscode": {
   "interpreter": {
    "hash": "1036caac0b3b72e5b28397a0163cfbe546bdc853c5d6fb275bae20afcfb1764e"
   }
  }
 },
 "nbformat": 4,
 "nbformat_minor": 2
}
