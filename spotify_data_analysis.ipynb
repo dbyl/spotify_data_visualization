{
 "cells": [
  {
   "cell_type": "markdown",
   "metadata": {},
   "source": [
    "# Spotify Data Visualization"
   ]
  },
  {
   "cell_type": "markdown",
   "metadata": {},
   "source": [
    "## 1.1 Importing data and libraries"
   ]
  },
  {
   "cell_type": "code",
   "execution_count": 1,
   "metadata": {},
   "outputs": [],
   "source": [
    "import pandas as pd\n",
    "import plotly.express as px\n",
    "import matplotlib.pyplot as plt\n",
    "import seaborn as sns"
   ]
  },
  {
   "cell_type": "code",
   "execution_count": 2,
   "metadata": {},
   "outputs": [],
   "source": [
    "# reading a file\n",
    "df_raw = pd.read_csv('spotify_charts.csv')"
   ]
  },
  {
   "cell_type": "markdown",
   "metadata": {},
   "source": [
    "## 1.2 Data exploration and optimization stage"
   ]
  },
  {
   "cell_type": "code",
   "execution_count": 4,
   "metadata": {},
   "outputs": [
    {
     "name": "stdout",
     "output_type": "stream",
     "text": [
      "<class 'pandas.core.frame.DataFrame'>\n",
      "RangeIndex: 26147953 entries, 0 to 26147952\n",
      "Data columns (total 9 columns):\n",
      " #   Column   Dtype  \n",
      "---  ------   -----  \n",
      " 0   title    object \n",
      " 1   rank     int64  \n",
      " 2   date     object \n",
      " 3   artist   object \n",
      " 4   url      object \n",
      " 5   region   object \n",
      " 6   chart    object \n",
      " 7   trend    object \n",
      " 8   streams  float64\n",
      "dtypes: float64(1), int64(1), object(7)\n",
      "memory usage: 13.1 GB\n"
     ]
    }
   ],
   "source": [
    "# working on the source file is necessary due to its size\n",
    "\n",
    "df_raw.info(memory_usage='deep')"
   ]
  },
  {
   "cell_type": "code",
   "execution_count": 5,
   "metadata": {},
   "outputs": [
    {
     "name": "stdout",
     "output_type": "stream",
     "text": [
      "unique values in title: 164758\n",
      "unique values in rank: 200\n",
      "unique values in date: 1826\n",
      "unique values in artist: 96115\n",
      "unique values in url: 217644\n",
      "unique values in region: 70\n",
      "unique values in chart: 2\n",
      "unique values in trend: 4\n",
      "unique values in streams: 788013\n"
     ]
    }
   ],
   "source": [
    "# checking the number of unique values \n",
    "\n",
    "for col in df_raw.columns:\n",
    "    print(f'unique values in {col}: {df_raw[col].nunique()}')"
   ]
  },
  {
   "cell_type": "code",
   "execution_count": 6,
   "metadata": {},
   "outputs": [],
   "source": [
    "# changing of data types from object to category/int for elements that have relatively few unique values (in comparison to number of all entries)\n",
    "\n",
    "df_raw['title'] = df_raw['title'].astype('category')\n",
    "df_raw['rank'] = df_raw['rank'].astype('int32')\n",
    "df_raw['date'] = df_raw['date'].astype('category')\n",
    "df_raw['artist'] = df_raw['artist'].astype('category')\n",
    "df_raw['url'] = df_raw['url'].astype('category')\n",
    "df_raw['region'] = df_raw['region'].astype('category')\n",
    "df_raw['chart'] = df_raw['chart'].astype('category')\n",
    "df_raw['trend'] = df_raw['trend'].astype('category')"
   ]
  },
  {
   "cell_type": "code",
   "execution_count": 7,
   "metadata": {},
   "outputs": [
    {
     "name": "stdout",
     "output_type": "stream",
     "text": [
      "NaN values in title: 11\n",
      "NaN values in rank: 0\n",
      "NaN values in date: 0\n",
      "NaN values in artist: 18\n",
      "NaN values in url: 0\n",
      "NaN values in region: 1\n",
      "NaN values in chart: 1\n",
      "NaN values in trend: 1\n",
      "NaN values in streams: 5826049\n"
     ]
    }
   ],
   "source": [
    "# checking the number of NaN values \n",
    "\n",
    "for col in df_raw.columns:\n",
    "    print(f'NaN values in {col}: {df_raw[col].isna().sum()}')\n",
    "    "
   ]
  },
  {
   "cell_type": "code",
   "execution_count": 9,
   "metadata": {},
   "outputs": [],
   "source": [
    "# preparing a NaN values filters\n",
    "\n",
    "title_is_nan = df_raw['title'].isna()\n",
    "artist_is_nan = df_raw['artist'].isna()\n",
    "region_is_nan = df_raw['region'].isna()\n",
    "chart_is_nan = df_raw['chart'].isna()\n",
    "trend_is_nan = df_raw['trend'].isna()\n",
    "streams_is_nan = df_raw['streams'].isna()\n"
   ]
  },
  {
   "cell_type": "code",
   "execution_count": 11,
   "metadata": {},
   "outputs": [
    {
     "data": {
      "text/html": [
       "<div>\n",
       "<style scoped>\n",
       "    .dataframe tbody tr th:only-of-type {\n",
       "        vertical-align: middle;\n",
       "    }\n",
       "\n",
       "    .dataframe tbody tr th {\n",
       "        vertical-align: top;\n",
       "    }\n",
       "\n",
       "    .dataframe thead th {\n",
       "        text-align: right;\n",
       "    }\n",
       "</style>\n",
       "<table border=\"1\" class=\"dataframe\">\n",
       "  <thead>\n",
       "    <tr style=\"text-align: right;\">\n",
       "      <th></th>\n",
       "      <th>title</th>\n",
       "      <th>rank</th>\n",
       "      <th>date</th>\n",
       "      <th>artist</th>\n",
       "      <th>url</th>\n",
       "      <th>region</th>\n",
       "      <th>chart</th>\n",
       "      <th>trend</th>\n",
       "      <th>streams</th>\n",
       "    </tr>\n",
       "  </thead>\n",
       "  <tbody>\n",
       "    <tr>\n",
       "      <th>7305002</th>\n",
       "      <td>NaN</td>\n",
       "      <td>120</td>\n",
       "      <td>2019-06-24</td>\n",
       "      <td>Nissy</td>\n",
       "      <td>https://open.spotify.com/track/4cP6KmNvTFkLHZo...</td>\n",
       "      <td>Japan</td>\n",
       "      <td>top200</td>\n",
       "      <td>NEW_ENTRY</td>\n",
       "      <td>11942.0</td>\n",
       "    </tr>\n",
       "    <tr>\n",
       "      <th>7401555</th>\n",
       "      <td>NaN</td>\n",
       "      <td>167</td>\n",
       "      <td>2019-06-25</td>\n",
       "      <td>Nissy</td>\n",
       "      <td>https://open.spotify.com/track/4cP6KmNvTFkLHZo...</td>\n",
       "      <td>Japan</td>\n",
       "      <td>top200</td>\n",
       "      <td>MOVE_DOWN</td>\n",
       "      <td>10310.0</td>\n",
       "    </tr>\n",
       "    <tr>\n",
       "      <th>7479161</th>\n",
       "      <td>NaN</td>\n",
       "      <td>128</td>\n",
       "      <td>2019-06-26</td>\n",
       "      <td>Nissy</td>\n",
       "      <td>https://open.spotify.com/track/4cP6KmNvTFkLHZo...</td>\n",
       "      <td>Japan</td>\n",
       "      <td>top200</td>\n",
       "      <td>MOVE_UP</td>\n",
       "      <td>11620.0</td>\n",
       "    </tr>\n",
       "  </tbody>\n",
       "</table>\n",
       "</div>"
      ],
      "text/plain": [
       "        title  rank        date artist  \\\n",
       "7305002   NaN   120  2019-06-24  Nissy   \n",
       "7401555   NaN   167  2019-06-25  Nissy   \n",
       "7479161   NaN   128  2019-06-26  Nissy   \n",
       "\n",
       "                                                       url region   chart  \\\n",
       "7305002  https://open.spotify.com/track/4cP6KmNvTFkLHZo...  Japan  top200   \n",
       "7401555  https://open.spotify.com/track/4cP6KmNvTFkLHZo...  Japan  top200   \n",
       "7479161  https://open.spotify.com/track/4cP6KmNvTFkLHZo...  Japan  top200   \n",
       "\n",
       "             trend  streams  \n",
       "7305002  NEW_ENTRY  11942.0  \n",
       "7401555  MOVE_DOWN  10310.0  \n",
       "7479161    MOVE_UP  11620.0  "
      ]
     },
     "execution_count": 11,
     "metadata": {},
     "output_type": "execute_result"
    }
   ],
   "source": [
    "# NaN data exploratiom\n",
    "df_raw[title_is_nan].head(3)"
   ]
  },
  {
   "cell_type": "code",
   "execution_count": 12,
   "metadata": {},
   "outputs": [
    {
     "data": {
      "text/html": [
       "<div>\n",
       "<style scoped>\n",
       "    .dataframe tbody tr th:only-of-type {\n",
       "        vertical-align: middle;\n",
       "    }\n",
       "\n",
       "    .dataframe tbody tr th {\n",
       "        vertical-align: top;\n",
       "    }\n",
       "\n",
       "    .dataframe thead th {\n",
       "        text-align: right;\n",
       "    }\n",
       "</style>\n",
       "<table border=\"1\" class=\"dataframe\">\n",
       "  <thead>\n",
       "    <tr style=\"text-align: right;\">\n",
       "      <th></th>\n",
       "      <th>title</th>\n",
       "      <th>rank</th>\n",
       "      <th>date</th>\n",
       "      <th>artist</th>\n",
       "      <th>url</th>\n",
       "      <th>region</th>\n",
       "      <th>chart</th>\n",
       "      <th>trend</th>\n",
       "      <th>streams</th>\n",
       "    </tr>\n",
       "  </thead>\n",
       "  <tbody>\n",
       "    <tr>\n",
       "      <th>20596664</th>\n",
       "      <td>NO GOOD</td>\n",
       "      <td>10</td>\n",
       "      <td>2020-07-13</td>\n",
       "      <td>NaN</td>\n",
       "      <td>https://open.spotify.com/track/4Qnz8tARYhUtDNe...</td>\n",
       "      <td>Japan</td>\n",
       "      <td>viral50</td>\n",
       "      <td>NEW_ENTRY</td>\n",
       "      <td>NaN</td>\n",
       "    </tr>\n",
       "    <tr>\n",
       "      <th>20616457</th>\n",
       "      <td>NO GOOD</td>\n",
       "      <td>10</td>\n",
       "      <td>2020-07-14</td>\n",
       "      <td>NaN</td>\n",
       "      <td>https://open.spotify.com/track/4Qnz8tARYhUtDNe...</td>\n",
       "      <td>Japan</td>\n",
       "      <td>viral50</td>\n",
       "      <td>SAME_POSITION</td>\n",
       "      <td>NaN</td>\n",
       "    </tr>\n",
       "    <tr>\n",
       "      <th>20640094</th>\n",
       "      <td>NO GOOD</td>\n",
       "      <td>10</td>\n",
       "      <td>2020-07-15</td>\n",
       "      <td>NaN</td>\n",
       "      <td>https://open.spotify.com/track/4Qnz8tARYhUtDNe...</td>\n",
       "      <td>Japan</td>\n",
       "      <td>viral50</td>\n",
       "      <td>SAME_POSITION</td>\n",
       "      <td>NaN</td>\n",
       "    </tr>\n",
       "  </tbody>\n",
       "</table>\n",
       "</div>"
      ],
      "text/plain": [
       "            title  rank        date artist  \\\n",
       "20596664  NO GOOD    10  2020-07-13    NaN   \n",
       "20616457  NO GOOD    10  2020-07-14    NaN   \n",
       "20640094  NO GOOD    10  2020-07-15    NaN   \n",
       "\n",
       "                                                        url region    chart  \\\n",
       "20596664  https://open.spotify.com/track/4Qnz8tARYhUtDNe...  Japan  viral50   \n",
       "20616457  https://open.spotify.com/track/4Qnz8tARYhUtDNe...  Japan  viral50   \n",
       "20640094  https://open.spotify.com/track/4Qnz8tARYhUtDNe...  Japan  viral50   \n",
       "\n",
       "                  trend  streams  \n",
       "20596664      NEW_ENTRY      NaN  \n",
       "20616457  SAME_POSITION      NaN  \n",
       "20640094  SAME_POSITION      NaN  "
      ]
     },
     "execution_count": 12,
     "metadata": {},
     "output_type": "execute_result"
    }
   ],
   "source": [
    "# NaN data exploratiom\n",
    "df_raw[artist_is_nan].head(3)"
   ]
  },
  {
   "cell_type": "code",
   "execution_count": 13,
   "metadata": {},
   "outputs": [
    {
     "data": {
      "text/html": [
       "<div>\n",
       "<style scoped>\n",
       "    .dataframe tbody tr th:only-of-type {\n",
       "        vertical-align: middle;\n",
       "    }\n",
       "\n",
       "    .dataframe tbody tr th {\n",
       "        vertical-align: top;\n",
       "    }\n",
       "\n",
       "    .dataframe thead th {\n",
       "        text-align: right;\n",
       "    }\n",
       "</style>\n",
       "<table border=\"1\" class=\"dataframe\">\n",
       "  <thead>\n",
       "    <tr style=\"text-align: right;\">\n",
       "      <th></th>\n",
       "      <th>title</th>\n",
       "      <th>rank</th>\n",
       "      <th>date</th>\n",
       "      <th>artist</th>\n",
       "      <th>url</th>\n",
       "      <th>region</th>\n",
       "      <th>chart</th>\n",
       "      <th>trend</th>\n",
       "      <th>streams</th>\n",
       "    </tr>\n",
       "  </thead>\n",
       "  <tbody>\n",
       "    <tr>\n",
       "      <th>26147952</th>\n",
       "      <td>Tengo La Personalidad</td>\n",
       "      <td>47</td>\n",
       "      <td>2021-07-24</td>\n",
       "      <td>Chikybombom La Pantera</td>\n",
       "      <td>https://open.spotify.com/trac</td>\n",
       "      <td>NaN</td>\n",
       "      <td>NaN</td>\n",
       "      <td>NaN</td>\n",
       "      <td>NaN</td>\n",
       "    </tr>\n",
       "  </tbody>\n",
       "</table>\n",
       "</div>"
      ],
      "text/plain": [
       "                          title  rank        date                  artist  \\\n",
       "26147952  Tengo La Personalidad    47  2021-07-24  Chikybombom La Pantera   \n",
       "\n",
       "                                    url region chart trend  streams  \n",
       "26147952  https://open.spotify.com/trac    NaN   NaN   NaN      NaN  "
      ]
     },
     "execution_count": 13,
     "metadata": {},
     "output_type": "execute_result"
    }
   ],
   "source": [
    "# NaN data exploratiom\n",
    "df_raw[region_is_nan].head(3)"
   ]
  },
  {
   "cell_type": "code",
   "execution_count": 14,
   "metadata": {},
   "outputs": [
    {
     "data": {
      "text/html": [
       "<div>\n",
       "<style scoped>\n",
       "    .dataframe tbody tr th:only-of-type {\n",
       "        vertical-align: middle;\n",
       "    }\n",
       "\n",
       "    .dataframe tbody tr th {\n",
       "        vertical-align: top;\n",
       "    }\n",
       "\n",
       "    .dataframe thead th {\n",
       "        text-align: right;\n",
       "    }\n",
       "</style>\n",
       "<table border=\"1\" class=\"dataframe\">\n",
       "  <thead>\n",
       "    <tr style=\"text-align: right;\">\n",
       "      <th></th>\n",
       "      <th>title</th>\n",
       "      <th>rank</th>\n",
       "      <th>date</th>\n",
       "      <th>artist</th>\n",
       "      <th>url</th>\n",
       "      <th>region</th>\n",
       "      <th>chart</th>\n",
       "      <th>trend</th>\n",
       "      <th>streams</th>\n",
       "    </tr>\n",
       "  </thead>\n",
       "  <tbody>\n",
       "    <tr>\n",
       "      <th>26147952</th>\n",
       "      <td>Tengo La Personalidad</td>\n",
       "      <td>47</td>\n",
       "      <td>2021-07-24</td>\n",
       "      <td>Chikybombom La Pantera</td>\n",
       "      <td>https://open.spotify.com/trac</td>\n",
       "      <td>NaN</td>\n",
       "      <td>NaN</td>\n",
       "      <td>NaN</td>\n",
       "      <td>NaN</td>\n",
       "    </tr>\n",
       "  </tbody>\n",
       "</table>\n",
       "</div>"
      ],
      "text/plain": [
       "                          title  rank        date                  artist  \\\n",
       "26147952  Tengo La Personalidad    47  2021-07-24  Chikybombom La Pantera   \n",
       "\n",
       "                                    url region chart trend  streams  \n",
       "26147952  https://open.spotify.com/trac    NaN   NaN   NaN      NaN  "
      ]
     },
     "execution_count": 14,
     "metadata": {},
     "output_type": "execute_result"
    }
   ],
   "source": [
    "# NaN data exploratiom\n",
    "df_raw[chart_is_nan].head(3)"
   ]
  },
  {
   "cell_type": "code",
   "execution_count": 15,
   "metadata": {},
   "outputs": [
    {
     "data": {
      "text/html": [
       "<div>\n",
       "<style scoped>\n",
       "    .dataframe tbody tr th:only-of-type {\n",
       "        vertical-align: middle;\n",
       "    }\n",
       "\n",
       "    .dataframe tbody tr th {\n",
       "        vertical-align: top;\n",
       "    }\n",
       "\n",
       "    .dataframe thead th {\n",
       "        text-align: right;\n",
       "    }\n",
       "</style>\n",
       "<table border=\"1\" class=\"dataframe\">\n",
       "  <thead>\n",
       "    <tr style=\"text-align: right;\">\n",
       "      <th></th>\n",
       "      <th>title</th>\n",
       "      <th>rank</th>\n",
       "      <th>date</th>\n",
       "      <th>artist</th>\n",
       "      <th>url</th>\n",
       "      <th>region</th>\n",
       "      <th>chart</th>\n",
       "      <th>trend</th>\n",
       "      <th>streams</th>\n",
       "    </tr>\n",
       "  </thead>\n",
       "  <tbody>\n",
       "    <tr>\n",
       "      <th>26147952</th>\n",
       "      <td>Tengo La Personalidad</td>\n",
       "      <td>47</td>\n",
       "      <td>2021-07-24</td>\n",
       "      <td>Chikybombom La Pantera</td>\n",
       "      <td>https://open.spotify.com/trac</td>\n",
       "      <td>NaN</td>\n",
       "      <td>NaN</td>\n",
       "      <td>NaN</td>\n",
       "      <td>NaN</td>\n",
       "    </tr>\n",
       "  </tbody>\n",
       "</table>\n",
       "</div>"
      ],
      "text/plain": [
       "                          title  rank        date                  artist  \\\n",
       "26147952  Tengo La Personalidad    47  2021-07-24  Chikybombom La Pantera   \n",
       "\n",
       "                                    url region chart trend  streams  \n",
       "26147952  https://open.spotify.com/trac    NaN   NaN   NaN      NaN  "
      ]
     },
     "execution_count": 15,
     "metadata": {},
     "output_type": "execute_result"
    }
   ],
   "source": [
    "# NaN data exploratiom\n",
    "df_raw[trend_is_nan].head(3)"
   ]
  },
  {
   "cell_type": "code",
   "execution_count": 16,
   "metadata": {},
   "outputs": [
    {
     "data": {
      "text/html": [
       "<div>\n",
       "<style scoped>\n",
       "    .dataframe tbody tr th:only-of-type {\n",
       "        vertical-align: middle;\n",
       "    }\n",
       "\n",
       "    .dataframe tbody tr th {\n",
       "        vertical-align: top;\n",
       "    }\n",
       "\n",
       "    .dataframe thead th {\n",
       "        text-align: right;\n",
       "    }\n",
       "</style>\n",
       "<table border=\"1\" class=\"dataframe\">\n",
       "  <thead>\n",
       "    <tr style=\"text-align: right;\">\n",
       "      <th></th>\n",
       "      <th>title</th>\n",
       "      <th>rank</th>\n",
       "      <th>date</th>\n",
       "      <th>artist</th>\n",
       "      <th>url</th>\n",
       "      <th>region</th>\n",
       "      <th>chart</th>\n",
       "      <th>trend</th>\n",
       "      <th>streams</th>\n",
       "    </tr>\n",
       "  </thead>\n",
       "  <tbody>\n",
       "    <tr>\n",
       "      <th>190071</th>\n",
       "      <td>There You Are</td>\n",
       "      <td>23</td>\n",
       "      <td>2017-08-10</td>\n",
       "      <td>Colin Chase</td>\n",
       "      <td>https://open.spotify.com/track/21eUnho2KAUmokP...</td>\n",
       "      <td>New Zealand</td>\n",
       "      <td>viral50</td>\n",
       "      <td>MOVE_UP</td>\n",
       "      <td>NaN</td>\n",
       "    </tr>\n",
       "    <tr>\n",
       "      <th>12815232</th>\n",
       "      <td>No Te Vas</td>\n",
       "      <td>9</td>\n",
       "      <td>2018-03-29</td>\n",
       "      <td>Nacho</td>\n",
       "      <td>https://open.spotify.com/track/6yuArSnBrhykjkC...</td>\n",
       "      <td>Colombia</td>\n",
       "      <td>viral50</td>\n",
       "      <td>MOVE_UP</td>\n",
       "      <td>NaN</td>\n",
       "    </tr>\n",
       "    <tr>\n",
       "      <th>11974630</th>\n",
       "      <td>Oye Pablo</td>\n",
       "      <td>48</td>\n",
       "      <td>2019-11-30</td>\n",
       "      <td>Danna Paola</td>\n",
       "      <td>https://open.spotify.com/track/4wJFExEZZo62tmw...</td>\n",
       "      <td>Ecuador</td>\n",
       "      <td>viral50</td>\n",
       "      <td>NEW_ENTRY</td>\n",
       "      <td>NaN</td>\n",
       "    </tr>\n",
       "    <tr>\n",
       "      <th>25642391</th>\n",
       "      <td>GoodMorning (Spanish Version)</td>\n",
       "      <td>24</td>\n",
       "      <td>2021-03-12</td>\n",
       "      <td>CRZ</td>\n",
       "      <td>https://open.spotify.com/track/51J9linsa2SjzT9...</td>\n",
       "      <td>Mexico</td>\n",
       "      <td>viral50</td>\n",
       "      <td>MOVE_DOWN</td>\n",
       "      <td>NaN</td>\n",
       "    </tr>\n",
       "    <tr>\n",
       "      <th>13616541</th>\n",
       "      <td>Tie Me Down (with Elley Duhé)</td>\n",
       "      <td>42</td>\n",
       "      <td>2018-08-31</td>\n",
       "      <td>Gryffin</td>\n",
       "      <td>https://open.spotify.com/track/4QVS8YCpK71R4Fs...</td>\n",
       "      <td>El Salvador</td>\n",
       "      <td>viral50</td>\n",
       "      <td>MOVE_UP</td>\n",
       "      <td>NaN</td>\n",
       "    </tr>\n",
       "  </tbody>\n",
       "</table>\n",
       "</div>"
      ],
      "text/plain": [
       "                                  title  rank        date       artist  \\\n",
       "190071                    There You Are    23  2017-08-10  Colin Chase   \n",
       "12815232                      No Te Vas     9  2018-03-29        Nacho   \n",
       "11974630                      Oye Pablo    48  2019-11-30  Danna Paola   \n",
       "25642391  GoodMorning (Spanish Version)    24  2021-03-12          CRZ   \n",
       "13616541  Tie Me Down (with Elley Duhé)    42  2018-08-31      Gryffin   \n",
       "\n",
       "                                                        url       region  \\\n",
       "190071    https://open.spotify.com/track/21eUnho2KAUmokP...  New Zealand   \n",
       "12815232  https://open.spotify.com/track/6yuArSnBrhykjkC...     Colombia   \n",
       "11974630  https://open.spotify.com/track/4wJFExEZZo62tmw...      Ecuador   \n",
       "25642391  https://open.spotify.com/track/51J9linsa2SjzT9...       Mexico   \n",
       "13616541  https://open.spotify.com/track/4QVS8YCpK71R4Fs...  El Salvador   \n",
       "\n",
       "            chart      trend  streams  \n",
       "190071    viral50    MOVE_UP      NaN  \n",
       "12815232  viral50    MOVE_UP      NaN  \n",
       "11974630  viral50  NEW_ENTRY      NaN  \n",
       "25642391  viral50  MOVE_DOWN      NaN  \n",
       "13616541  viral50    MOVE_UP      NaN  "
      ]
     },
     "execution_count": 16,
     "metadata": {},
     "output_type": "execute_result"
    }
   ],
   "source": [
    "# NaN data exploratiom\n",
    "df_raw[streams_is_nan].sample(5)"
   ]
  },
  {
   "cell_type": "code",
   "execution_count": 17,
   "metadata": {},
   "outputs": [
    {
     "data": {
      "text/plain": [
       "0"
      ]
     },
     "execution_count": 17,
     "metadata": {},
     "output_type": "execute_result"
    }
   ],
   "source": [
    "# checking if 'streams' contains any '0' values\n",
    "\n",
    "streams_is_null = df_raw['streams'] == 0\n",
    "\n",
    "len(df_raw[streams_is_null])\n",
    "\n"
   ]
  },
  {
   "cell_type": "code",
   "execution_count": 18,
   "metadata": {},
   "outputs": [],
   "source": [
    "# replacing NaN values with a zeros without losing any data\n",
    "\n",
    "df_raw['streams'].fillna(value=0, inplace=True)"
   ]
  },
  {
   "cell_type": "code",
   "execution_count": 19,
   "metadata": {},
   "outputs": [],
   "source": [
    "#changing of data types of 'streams' from float64 to int32\n",
    "\n",
    "df_raw['streams'] = df_raw['streams'].astype('int32')"
   ]
  },
  {
   "cell_type": "code",
   "execution_count": 20,
   "metadata": {},
   "outputs": [],
   "source": [
    "# droping rest records containing NaN values\n",
    "df_raw.dropna(inplace=True)\n"
   ]
  },
  {
   "cell_type": "code",
   "execution_count": 21,
   "metadata": {},
   "outputs": [
    {
     "name": "stdout",
     "output_type": "stream",
     "text": [
      "NaN values in title: 0\n",
      "NaN values in rank: 0\n",
      "NaN values in date: 0\n",
      "NaN values in artist: 0\n",
      "NaN values in url: 0\n",
      "NaN values in region: 0\n",
      "NaN values in chart: 0\n",
      "NaN values in trend: 0\n",
      "NaN values in streams: 0\n"
     ]
    }
   ],
   "source": [
    "#rechecking the number of NaN values \n",
    "\n",
    "for col in df_raw.columns:\n",
    "    print(f'NaN values in {col}: {df_raw[col].isna().sum()}')"
   ]
  },
  {
   "cell_type": "code",
   "execution_count": 22,
   "metadata": {},
   "outputs": [
    {
     "name": "stdout",
     "output_type": "stream",
     "text": [
      "<class 'pandas.core.frame.DataFrame'>\n",
      "Int64Index: 26147923 entries, 0 to 26147951\n",
      "Data columns (total 9 columns):\n",
      " #   Column   Dtype   \n",
      "---  ------   -----   \n",
      " 0   title    category\n",
      " 1   rank     int32   \n",
      " 2   date     category\n",
      " 3   artist   category\n",
      " 4   url      category\n",
      " 5   region   category\n",
      " 6   chart    category\n",
      " 7   trend    category\n",
      " 8   streams  int32   \n",
      "dtypes: category(7), int32(2)\n",
      "memory usage: 880.0 MB\n"
     ]
    }
   ],
   "source": [
    "# checking if there is a memory usage saving\n",
    "df_raw.info(memory_usage='deep')\n",
    "\n",
    "\n"
   ]
  }
 ],
 "metadata": {
  "kernelspec": {
   "display_name": "Python 3.8.10 ('env': venv)",
   "language": "python",
   "name": "python3"
  },
  "language_info": {
   "codemirror_mode": {
    "name": "ipython",
    "version": 3
   },
   "file_extension": ".py",
   "mimetype": "text/x-python",
   "name": "python",
   "nbconvert_exporter": "python",
   "pygments_lexer": "ipython3",
   "version": "3.8.10"
  },
  "orig_nbformat": 4,
  "vscode": {
   "interpreter": {
    "hash": "1036caac0b3b72e5b28397a0163cfbe546bdc853c5d6fb275bae20afcfb1764e"
   }
  }
 },
 "nbformat": 4,
 "nbformat_minor": 2
}
